{
 "cells": [
  {
   "cell_type": "code",
   "execution_count": 1,
   "id": "d78ba3f4",
   "metadata": {
    "_cell_guid": "b1076dfc-b9ad-4769-8c92-a6c4dae69d19",
    "_uuid": "8f2839f25d086af736a60e9eeb907d3b93b6e0e5",
    "execution": {
     "iopub.execute_input": "2023-12-07T04:26:32.414778Z",
     "iopub.status.busy": "2023-12-07T04:26:32.414310Z",
     "iopub.status.idle": "2023-12-07T04:26:33.188754Z",
     "shell.execute_reply": "2023-12-07T04:26:33.186523Z"
    },
    "papermill": {
     "duration": 0.790978,
     "end_time": "2023-12-07T04:26:33.191474",
     "exception": false,
     "start_time": "2023-12-07T04:26:32.400496",
     "status": "completed"
    },
    "tags": []
   },
   "outputs": [
    {
     "name": "stdout",
     "output_type": "stream",
     "text": [
      "/kaggle/input/financial-transaction-matching-icaif-2023/icaif_fintran_sampleSubmissionKaggle.csv\n",
      "/kaggle/input/financial-transaction-matching-icaif-2023/icaif_fintran_train.csv\n",
      "/kaggle/input/financial-transaction-matching-icaif-2023/icaif_fintran_eval.csv\n",
      "/kaggle/input/financial-transaction-matching-icaif-2023/icaif_fintran_sampleSubmissionFull.csv\n"
     ]
    }
   ],
   "source": [
    "# This Python 3 environment comes with many helpful analytics libraries installed\n",
    "# It is defined by the kaggle/python Docker image: https://github.com/kaggle/docker-python\n",
    "# For example, here's several helpful packages to load\n",
    "\n",
    "import numpy as np # linear algebra\n",
    "import pandas as pd # data processing, CSV file I/O (e.g. pd.read_csv)\n",
    "\n",
    "# Input data files are available in the read-only \"../input/\" directory\n",
    "# For example, running this (by clicking run or pressing Shift+Enter) will list all files under the input directory\n",
    "\n",
    "import os\n",
    "for dirname, _, filenames in os.walk('/kaggle/input'):\n",
    "    for filename in filenames:\n",
    "        print(os.path.join(dirname, filename))\n",
    "\n",
    "# You can write up to 20GB to the current directory (/kaggle/working/) that gets preserved as output when you create a version using \"Save & Run All\" \n",
    "# You can also write temporary files to /kaggle/temp/, but they won't be saved outside of the current session"
   ]
  },
  {
   "cell_type": "code",
   "execution_count": 2,
   "id": "207a5a46",
   "metadata": {
    "execution": {
     "iopub.execute_input": "2023-12-07T04:26:33.214323Z",
     "iopub.status.busy": "2023-12-07T04:26:33.213734Z",
     "iopub.status.idle": "2023-12-07T04:26:35.662940Z",
     "shell.execute_reply": "2023-12-07T04:26:35.661239Z"
    },
    "papermill": {
     "duration": 2.463592,
     "end_time": "2023-12-07T04:26:35.665849",
     "exception": false,
     "start_time": "2023-12-07T04:26:33.202257",
     "status": "completed"
    },
    "tags": []
   },
   "outputs": [],
   "source": [
    "eval_data = pd.read_csv(\"/kaggle/input/financial-transaction-matching-icaif-2023/icaif_fintran_eval.csv\")\n",
    "df = pd.read_csv(\"/kaggle/input/financial-transaction-matching-icaif-2023/icaif_fintran_train.csv\")\n",
    "sample_sub = pd.read_csv(\"/kaggle/input/financial-transaction-matching-icaif-2023/icaif_fintran_sampleSubmissionFull.csv\")"
   ]
  },
  {
   "cell_type": "code",
   "execution_count": 3,
   "id": "d5078547",
   "metadata": {
    "execution": {
     "iopub.execute_input": "2023-12-07T04:26:35.690507Z",
     "iopub.status.busy": "2023-12-07T04:26:35.690053Z",
     "iopub.status.idle": "2023-12-07T04:26:35.728065Z",
     "shell.execute_reply": "2023-12-07T04:26:35.726842Z"
    },
    "papermill": {
     "duration": 0.053643,
     "end_time": "2023-12-07T04:26:35.731071",
     "exception": false,
     "start_time": "2023-12-07T04:26:35.677428",
     "status": "completed"
    },
    "tags": []
   },
   "outputs": [
    {
     "data": {
      "text/html": [
       "<div>\n",
       "<style scoped>\n",
       "    .dataframe tbody tr th:only-of-type {\n",
       "        vertical-align: middle;\n",
       "    }\n",
       "\n",
       "    .dataframe tbody tr th {\n",
       "        vertical-align: top;\n",
       "    }\n",
       "\n",
       "    .dataframe thead th {\n",
       "        text-align: right;\n",
       "    }\n",
       "</style>\n",
       "<table border=\"1\" class=\"dataframe\">\n",
       "  <thead>\n",
       "    <tr style=\"text-align: right;\">\n",
       "      <th></th>\n",
       "      <th>matchId</th>\n",
       "      <th>matchDate</th>\n",
       "      <th>matchRule</th>\n",
       "      <th>matchedBy</th>\n",
       "      <th>wasPreviouslyMismatched</th>\n",
       "      <th>A_transactionType</th>\n",
       "      <th>A_id</th>\n",
       "      <th>A_allocation</th>\n",
       "      <th>A_importDate</th>\n",
       "      <th>A_debitOrCredit</th>\n",
       "      <th>...</th>\n",
       "      <th>B_id</th>\n",
       "      <th>B_importDate</th>\n",
       "      <th>B_debitOrCredit</th>\n",
       "      <th>B_amount</th>\n",
       "      <th>B_valueDate</th>\n",
       "      <th>B_currencyCode</th>\n",
       "      <th>B_account</th>\n",
       "      <th>B_transactionReferences</th>\n",
       "      <th>B_transactionAttributes</th>\n",
       "      <th>targetAllocation</th>\n",
       "    </tr>\n",
       "  </thead>\n",
       "  <tbody>\n",
       "    <tr>\n",
       "      <th>0</th>\n",
       "      <td>504385986027</td>\n",
       "      <td>2015-03-12</td>\n",
       "      <td>RULE 4</td>\n",
       "      <td>FAECAL IPL</td>\n",
       "      <td>0</td>\n",
       "      <td>NaN</td>\n",
       "      <td>NaN</td>\n",
       "      <td>NaN</td>\n",
       "      <td>NaN</td>\n",
       "      <td>NaN</td>\n",
       "      <td>...</td>\n",
       "      <td>2.800080e+11</td>\n",
       "      <td>2015-03-09</td>\n",
       "      <td>DR</td>\n",
       "      <td>6.507685e+09</td>\n",
       "      <td>2015-03-08</td>\n",
       "      <td>USD</td>\n",
       "      <td>ACC#00001</td>\n",
       "      <td>JOQGE 5280766176VI</td>\n",
       "      <td>NaN</td>\n",
       "      <td>USD_2015-03-08_ACC#00001_66412     66510665106...</td>\n",
       "    </tr>\n",
       "    <tr>\n",
       "      <th>1</th>\n",
       "      <td>504385986027</td>\n",
       "      <td>2015-03-12</td>\n",
       "      <td>NaN</td>\n",
       "      <td>FAECAL IPL</td>\n",
       "      <td>0</td>\n",
       "      <td>NaN</td>\n",
       "      <td>NaN</td>\n",
       "      <td>NaN</td>\n",
       "      <td>NaN</td>\n",
       "      <td>NaN</td>\n",
       "      <td>...</td>\n",
       "      <td>9.830071e+11</td>\n",
       "      <td>2015-03-12</td>\n",
       "      <td>DR</td>\n",
       "      <td>4.000000e+03</td>\n",
       "      <td>2015-03-08</td>\n",
       "      <td>USD</td>\n",
       "      <td>ACC#00001</td>\n",
       "      <td>JOQGE 5280766176VI</td>\n",
       "      <td>NaN</td>\n",
       "      <td>USD_2015-03-08_ACC#00001_66412     66510665106...</td>\n",
       "    </tr>\n",
       "    <tr>\n",
       "      <th>2</th>\n",
       "      <td>504385986027</td>\n",
       "      <td>2015-03-12</td>\n",
       "      <td>RULE 4</td>\n",
       "      <td>FAECAL IPL</td>\n",
       "      <td>0</td>\n",
       "      <td>A</td>\n",
       "      <td>8.061604e+11</td>\n",
       "      <td>USD_2015-03-08_ACC#00001_66412     66510665106...</td>\n",
       "      <td>2015-03-12</td>\n",
       "      <td>CR</td>\n",
       "      <td>...</td>\n",
       "      <td>NaN</td>\n",
       "      <td>NaN</td>\n",
       "      <td>NaN</td>\n",
       "      <td>NaN</td>\n",
       "      <td>NaN</td>\n",
       "      <td>NaN</td>\n",
       "      <td>NaN</td>\n",
       "      <td>NaN</td>\n",
       "      <td>NaN</td>\n",
       "      <td>NaN</td>\n",
       "    </tr>\n",
       "    <tr>\n",
       "      <th>3</th>\n",
       "      <td>363434063263</td>\n",
       "      <td>2015-03-13</td>\n",
       "      <td>RULE 4</td>\n",
       "      <td>FAECAL</td>\n",
       "      <td>0</td>\n",
       "      <td>NaN</td>\n",
       "      <td>NaN</td>\n",
       "      <td>NaN</td>\n",
       "      <td>NaN</td>\n",
       "      <td>NaN</td>\n",
       "      <td>...</td>\n",
       "      <td>4.657845e+11</td>\n",
       "      <td>2015-03-13</td>\n",
       "      <td>CR</td>\n",
       "      <td>-4.000000e+03</td>\n",
       "      <td>2015-03-08</td>\n",
       "      <td>USD</td>\n",
       "      <td>ACC#00001</td>\n",
       "      <td>VOLERY L-7186666178VI</td>\n",
       "      <td>OB CROM WOE SLUM MURREY NA 09201-7</td>\n",
       "      <td>NaN</td>\n",
       "    </tr>\n",
       "    <tr>\n",
       "      <th>4</th>\n",
       "      <td>870402401618</td>\n",
       "      <td>2015-03-25</td>\n",
       "      <td>RULE 4</td>\n",
       "      <td>FAECAL IPL</td>\n",
       "      <td>0</td>\n",
       "      <td>A</td>\n",
       "      <td>9.271706e+11</td>\n",
       "      <td>USD_2015-03-20_ACC#00001_66412     66073660736...</td>\n",
       "      <td>2015-03-22</td>\n",
       "      <td>DR</td>\n",
       "      <td>...</td>\n",
       "      <td>NaN</td>\n",
       "      <td>NaN</td>\n",
       "      <td>NaN</td>\n",
       "      <td>NaN</td>\n",
       "      <td>NaN</td>\n",
       "      <td>NaN</td>\n",
       "      <td>NaN</td>\n",
       "      <td>NaN</td>\n",
       "      <td>NaN</td>\n",
       "      <td>NaN</td>\n",
       "    </tr>\n",
       "  </tbody>\n",
       "</table>\n",
       "<p>5 rows × 27 columns</p>\n",
       "</div>"
      ],
      "text/plain": [
       "        matchId   matchDate matchRule   matchedBy  wasPreviouslyMismatched  \\\n",
       "0  504385986027  2015-03-12    RULE 4  FAECAL IPL                        0   \n",
       "1  504385986027  2015-03-12       NaN  FAECAL IPL                        0   \n",
       "2  504385986027  2015-03-12    RULE 4  FAECAL IPL                        0   \n",
       "3  363434063263  2015-03-13    RULE 4      FAECAL                        0   \n",
       "4  870402401618  2015-03-25    RULE 4  FAECAL IPL                        0   \n",
       "\n",
       "  A_transactionType          A_id  \\\n",
       "0               NaN           NaN   \n",
       "1               NaN           NaN   \n",
       "2                 A  8.061604e+11   \n",
       "3               NaN           NaN   \n",
       "4                 A  9.271706e+11   \n",
       "\n",
       "                                        A_allocation A_importDate  \\\n",
       "0                                                NaN          NaN   \n",
       "1                                                NaN          NaN   \n",
       "2  USD_2015-03-08_ACC#00001_66412     66510665106...   2015-03-12   \n",
       "3                                                NaN          NaN   \n",
       "4  USD_2015-03-20_ACC#00001_66412     66073660736...   2015-03-22   \n",
       "\n",
       "  A_debitOrCredit  ...          B_id B_importDate B_debitOrCredit  \\\n",
       "0             NaN  ...  2.800080e+11   2015-03-09              DR   \n",
       "1             NaN  ...  9.830071e+11   2015-03-12              DR   \n",
       "2              CR  ...           NaN          NaN             NaN   \n",
       "3             NaN  ...  4.657845e+11   2015-03-13              CR   \n",
       "4              DR  ...           NaN          NaN             NaN   \n",
       "\n",
       "       B_amount B_valueDate B_currencyCode  B_account  \\\n",
       "0  6.507685e+09  2015-03-08            USD  ACC#00001   \n",
       "1  4.000000e+03  2015-03-08            USD  ACC#00001   \n",
       "2           NaN         NaN            NaN        NaN   \n",
       "3 -4.000000e+03  2015-03-08            USD  ACC#00001   \n",
       "4           NaN         NaN            NaN        NaN   \n",
       "\n",
       "   B_transactionReferences             B_transactionAttributes  \\\n",
       "0       JOQGE 5280766176VI                                 NaN   \n",
       "1       JOQGE 5280766176VI                                 NaN   \n",
       "2                      NaN                                 NaN   \n",
       "3    VOLERY L-7186666178VI  OB CROM WOE SLUM MURREY NA 09201-7   \n",
       "4                      NaN                                 NaN   \n",
       "\n",
       "                                    targetAllocation  \n",
       "0  USD_2015-03-08_ACC#00001_66412     66510665106...  \n",
       "1  USD_2015-03-08_ACC#00001_66412     66510665106...  \n",
       "2                                                NaN  \n",
       "3                                                NaN  \n",
       "4                                                NaN  \n",
       "\n",
       "[5 rows x 27 columns]"
      ]
     },
     "execution_count": 3,
     "metadata": {},
     "output_type": "execute_result"
    }
   ],
   "source": [
    "df.head()"
   ]
  },
  {
   "cell_type": "code",
   "execution_count": 4,
   "id": "4e6196b6",
   "metadata": {
    "execution": {
     "iopub.execute_input": "2023-12-07T04:26:35.754628Z",
     "iopub.status.busy": "2023-12-07T04:26:35.754176Z",
     "iopub.status.idle": "2023-12-07T04:26:35.765087Z",
     "shell.execute_reply": "2023-12-07T04:26:35.763532Z"
    },
    "papermill": {
     "duration": 0.025402,
     "end_time": "2023-12-07T04:26:35.767520",
     "exception": false,
     "start_time": "2023-12-07T04:26:35.742118",
     "status": "completed"
    },
    "tags": []
   },
   "outputs": [
    {
     "data": {
      "text/plain": [
       "(164262, 27)"
      ]
     },
     "execution_count": 4,
     "metadata": {},
     "output_type": "execute_result"
    }
   ],
   "source": [
    "df.shape"
   ]
  },
  {
   "cell_type": "code",
   "execution_count": 5,
   "id": "be44f0cf",
   "metadata": {
    "execution": {
     "iopub.execute_input": "2023-12-07T04:26:35.789989Z",
     "iopub.status.busy": "2023-12-07T04:26:35.789636Z",
     "iopub.status.idle": "2023-12-07T04:26:35.795493Z",
     "shell.execute_reply": "2023-12-07T04:26:35.794396Z"
    },
    "papermill": {
     "duration": 0.019373,
     "end_time": "2023-12-07T04:26:35.797789",
     "exception": false,
     "start_time": "2023-12-07T04:26:35.778416",
     "status": "completed"
    },
    "tags": []
   },
   "outputs": [
    {
     "name": "stdout",
     "output_type": "stream",
     "text": [
      "['matchId', 'matchDate', 'matchRule', 'matchedBy', 'wasPreviouslyMismatched', 'A_transactionType', 'A_id', 'A_allocation', 'A_importDate', 'A_debitOrCredit', 'A_amount', 'A_valueDate', 'A_currencyCode', 'A_account', 'A_transactionReferences', 'A_transactionAttributes', 'B_transactionType', 'B_id', 'B_importDate', 'B_debitOrCredit', 'B_amount', 'B_valueDate', 'B_currencyCode', 'B_account', 'B_transactionReferences', 'B_transactionAttributes', 'targetAllocation']\n"
     ]
    }
   ],
   "source": [
    "name_of_columns = df.columns.tolist()\n",
    "print(name_of_columns)"
   ]
  },
  {
   "cell_type": "code",
   "execution_count": 6,
   "id": "d4e8d5ae",
   "metadata": {
    "execution": {
     "iopub.execute_input": "2023-12-07T04:26:35.824560Z",
     "iopub.status.busy": "2023-12-07T04:26:35.824134Z",
     "iopub.status.idle": "2023-12-07T04:26:35.830062Z",
     "shell.execute_reply": "2023-12-07T04:26:35.828764Z"
    },
    "papermill": {
     "duration": 0.022043,
     "end_time": "2023-12-07T04:26:35.832178",
     "exception": false,
     "start_time": "2023-12-07T04:26:35.810135",
     "status": "completed"
    },
    "tags": []
   },
   "outputs": [],
   "source": [
    "columns_A = ['A_transactionType', 'A_id', 'A_allocation', 'A_debitOrCredit', 'A_amount', 'A_valueDate', 'A_currencyCode','A_transactionReferences', 'A_transactionAttributes']\n",
    "columns_B = ['B_transactionType', 'B_id', 'B_debitOrCredit', 'B_amount', 'B_valueDate', 'B_currencyCode','B_transactionReferences', 'B_transactionAttributes', 'targetAllocation']"
   ]
  },
  {
   "cell_type": "code",
   "execution_count": 7,
   "id": "1d6efe30",
   "metadata": {
    "execution": {
     "iopub.execute_input": "2023-12-07T04:26:35.855125Z",
     "iopub.status.busy": "2023-12-07T04:26:35.854737Z",
     "iopub.status.idle": "2023-12-07T04:26:35.936493Z",
     "shell.execute_reply": "2023-12-07T04:26:35.935494Z"
    },
    "papermill": {
     "duration": 0.096122,
     "end_time": "2023-12-07T04:26:35.939327",
     "exception": false,
     "start_time": "2023-12-07T04:26:35.843205",
     "status": "completed"
    },
    "tags": []
   },
   "outputs": [],
   "source": [
    "df_A = df[columns_A]\n",
    "df_A.head()\n",
    "df_A = df_A.dropna()"
   ]
  },
  {
   "cell_type": "code",
   "execution_count": 8,
   "id": "63f03555",
   "metadata": {
    "execution": {
     "iopub.execute_input": "2023-12-07T04:26:35.964859Z",
     "iopub.status.busy": "2023-12-07T04:26:35.964469Z",
     "iopub.status.idle": "2023-12-07T04:26:35.977517Z",
     "shell.execute_reply": "2023-12-07T04:26:35.976107Z"
    },
    "papermill": {
     "duration": 0.02848,
     "end_time": "2023-12-07T04:26:35.979592",
     "exception": false,
     "start_time": "2023-12-07T04:26:35.951112",
     "status": "completed"
    },
    "tags": []
   },
   "outputs": [
    {
     "name": "stdout",
     "output_type": "stream",
     "text": [
      "The column 'A_allocation' does not have any null values.\n"
     ]
    }
   ],
   "source": [
    "column_to_check = 'A_allocation'\n",
    "\n",
    "# Check if the specified column has any null values\n",
    "if df_A[column_to_check].isnull().any():\n",
    "    # Print the number of null values in the specified column\n",
    "    print(f\"The column '{column_to_check}' has {df_A[column_to_check].isnull().sum()} null values.\")\n",
    "else:\n",
    "    print(f\"The column '{column_to_check}' does not have any null values.\")"
   ]
  },
  {
   "cell_type": "code",
   "execution_count": 9,
   "id": "b1eb7875",
   "metadata": {
    "execution": {
     "iopub.execute_input": "2023-12-07T04:26:36.003799Z",
     "iopub.status.busy": "2023-12-07T04:26:36.003399Z",
     "iopub.status.idle": "2023-12-07T04:26:36.071601Z",
     "shell.execute_reply": "2023-12-07T04:26:36.070144Z"
    },
    "papermill": {
     "duration": 0.083623,
     "end_time": "2023-12-07T04:26:36.074624",
     "exception": false,
     "start_time": "2023-12-07T04:26:35.991001",
     "status": "completed"
    },
    "tags": []
   },
   "outputs": [],
   "source": [
    "df_B = df[columns_B]\n",
    "df_B = df_B.dropna()"
   ]
  },
  {
   "cell_type": "code",
   "execution_count": 10,
   "id": "f8b36046",
   "metadata": {
    "execution": {
     "iopub.execute_input": "2023-12-07T04:26:36.098462Z",
     "iopub.status.busy": "2023-12-07T04:26:36.098083Z",
     "iopub.status.idle": "2023-12-07T04:26:36.109556Z",
     "shell.execute_reply": "2023-12-07T04:26:36.108614Z"
    },
    "papermill": {
     "duration": 0.02594,
     "end_time": "2023-12-07T04:26:36.111893",
     "exception": false,
     "start_time": "2023-12-07T04:26:36.085953",
     "status": "completed"
    },
    "tags": []
   },
   "outputs": [
    {
     "name": "stdout",
     "output_type": "stream",
     "text": [
      "The column 'targetAllocation' does not have any null values.\n"
     ]
    }
   ],
   "source": [
    "column_to_check = 'targetAllocation'\n",
    "\n",
    "# Check if the specified column has any null values\n",
    "if df_B[column_to_check].isnull().any():\n",
    "    # Print the number of null values in the specified column\n",
    "    print(f\"The column '{column_to_check}' has {df_B[column_to_check].isnull().sum()} null values.\")\n",
    "else:\n",
    "    print(f\"The column '{column_to_check}' does not have any null values.\")"
   ]
  },
  {
   "cell_type": "code",
   "execution_count": 11,
   "id": "49d88b89",
   "metadata": {
    "execution": {
     "iopub.execute_input": "2023-12-07T04:26:36.136088Z",
     "iopub.status.busy": "2023-12-07T04:26:36.135613Z",
     "iopub.status.idle": "2023-12-07T04:26:36.153032Z",
     "shell.execute_reply": "2023-12-07T04:26:36.151495Z"
    },
    "papermill": {
     "duration": 0.032547,
     "end_time": "2023-12-07T04:26:36.155472",
     "exception": false,
     "start_time": "2023-12-07T04:26:36.122925",
     "status": "completed"
    },
    "tags": []
   },
   "outputs": [
    {
     "data": {
      "text/html": [
       "<div>\n",
       "<style scoped>\n",
       "    .dataframe tbody tr th:only-of-type {\n",
       "        vertical-align: middle;\n",
       "    }\n",
       "\n",
       "    .dataframe tbody tr th {\n",
       "        vertical-align: top;\n",
       "    }\n",
       "\n",
       "    .dataframe thead th {\n",
       "        text-align: right;\n",
       "    }\n",
       "</style>\n",
       "<table border=\"1\" class=\"dataframe\">\n",
       "  <thead>\n",
       "    <tr style=\"text-align: right;\">\n",
       "      <th></th>\n",
       "      <th>B_transactionType</th>\n",
       "      <th>B_id</th>\n",
       "      <th>B_debitOrCredit</th>\n",
       "      <th>B_amount</th>\n",
       "      <th>B_valueDate</th>\n",
       "      <th>B_currencyCode</th>\n",
       "      <th>B_transactionReferences</th>\n",
       "      <th>B_transactionAttributes</th>\n",
       "      <th>targetAllocation</th>\n",
       "    </tr>\n",
       "  </thead>\n",
       "  <tbody>\n",
       "    <tr>\n",
       "      <th>5</th>\n",
       "      <td>B</td>\n",
       "      <td>3.247800e+11</td>\n",
       "      <td>CR</td>\n",
       "      <td>-4400.00</td>\n",
       "      <td>2015-03-21</td>\n",
       "      <td>USD</td>\n",
       "      <td>6000796676523097 4788366111FW</td>\n",
       "      <td>Y.M. TONITE (GOLACH) NM LAMPAD 00</td>\n",
       "      <td>[USD_2015-03-20_ACC#00001_66412     6607366073...</td>\n",
       "    </tr>\n",
       "    <tr>\n",
       "      <th>9</th>\n",
       "      <td>B</td>\n",
       "      <td>1.810570e+11</td>\n",
       "      <td>CR</td>\n",
       "      <td>-45000.00</td>\n",
       "      <td>2021-10-20</td>\n",
       "      <td>USD</td>\n",
       "      <td>VOLERY 1515326666FP</td>\n",
       "      <td>TUP C818366666666666IFV /IFV CLASP</td>\n",
       "      <td>USD_2021-10-20_ACC#00001_66912     02507025077...</td>\n",
       "    </tr>\n",
       "    <tr>\n",
       "      <th>10</th>\n",
       "      <td>B</td>\n",
       "      <td>5.482324e+11</td>\n",
       "      <td>CR</td>\n",
       "      <td>-158948.00</td>\n",
       "      <td>2021-10-20</td>\n",
       "      <td>USD</td>\n",
       "      <td>VOLERY 1515326666FP</td>\n",
       "      <td>TUP C818366666666666IFV /IFV CLASP</td>\n",
       "      <td>USD_2021-10-20_ACC#00001_66912     02507025077...</td>\n",
       "    </tr>\n",
       "    <tr>\n",
       "      <th>11</th>\n",
       "      <td>B</td>\n",
       "      <td>9.593513e+11</td>\n",
       "      <td>CR</td>\n",
       "      <td>-70.90</td>\n",
       "      <td>2021-12-16</td>\n",
       "      <td>USD</td>\n",
       "      <td>V394464567735831 6459066719VI</td>\n",
       "      <td>UPCLOSER SAUNT TYPY AFTONIAN ARAWA</td>\n",
       "      <td>USD_2021-12-16_ACC#00001_66912     0256602566 ...</td>\n",
       "    </tr>\n",
       "    <tr>\n",
       "      <th>12</th>\n",
       "      <td>B</td>\n",
       "      <td>8.104622e+11</td>\n",
       "      <td>CR</td>\n",
       "      <td>-469773.22</td>\n",
       "      <td>2021-12-16</td>\n",
       "      <td>USD</td>\n",
       "      <td>V394464567735831 6459066719VI</td>\n",
       "      <td>UPCLOSER SAUNT TYPY AFTONIAN ARAWA</td>\n",
       "      <td>USD_2021-12-16_ACC#00001_66912     0256602566 ...</td>\n",
       "    </tr>\n",
       "  </tbody>\n",
       "</table>\n",
       "</div>"
      ],
      "text/plain": [
       "   B_transactionType          B_id B_debitOrCredit   B_amount B_valueDate  \\\n",
       "5                  B  3.247800e+11              CR   -4400.00  2015-03-21   \n",
       "9                  B  1.810570e+11              CR  -45000.00  2021-10-20   \n",
       "10                 B  5.482324e+11              CR -158948.00  2021-10-20   \n",
       "11                 B  9.593513e+11              CR     -70.90  2021-12-16   \n",
       "12                 B  8.104622e+11              CR -469773.22  2021-12-16   \n",
       "\n",
       "   B_currencyCode        B_transactionReferences  \\\n",
       "5             USD  6000796676523097 4788366111FW   \n",
       "9             USD            VOLERY 1515326666FP   \n",
       "10            USD            VOLERY 1515326666FP   \n",
       "11            USD  V394464567735831 6459066719VI   \n",
       "12            USD  V394464567735831 6459066719VI   \n",
       "\n",
       "               B_transactionAttributes  \\\n",
       "5    Y.M. TONITE (GOLACH) NM LAMPAD 00   \n",
       "9   TUP C818366666666666IFV /IFV CLASP   \n",
       "10  TUP C818366666666666IFV /IFV CLASP   \n",
       "11  UPCLOSER SAUNT TYPY AFTONIAN ARAWA   \n",
       "12  UPCLOSER SAUNT TYPY AFTONIAN ARAWA   \n",
       "\n",
       "                                     targetAllocation  \n",
       "5   [USD_2015-03-20_ACC#00001_66412     6607366073...  \n",
       "9   USD_2021-10-20_ACC#00001_66912     02507025077...  \n",
       "10  USD_2021-10-20_ACC#00001_66912     02507025077...  \n",
       "11  USD_2021-12-16_ACC#00001_66912     0256602566 ...  \n",
       "12  USD_2021-12-16_ACC#00001_66912     0256602566 ...  "
      ]
     },
     "execution_count": 11,
     "metadata": {},
     "output_type": "execute_result"
    }
   ],
   "source": [
    "df_B.head()"
   ]
  },
  {
   "cell_type": "code",
   "execution_count": 12,
   "id": "4880bb60",
   "metadata": {
    "execution": {
     "iopub.execute_input": "2023-12-07T04:26:36.257411Z",
     "iopub.status.busy": "2023-12-07T04:26:36.256993Z",
     "iopub.status.idle": "2023-12-07T04:26:36.263309Z",
     "shell.execute_reply": "2023-12-07T04:26:36.261606Z"
    },
    "papermill": {
     "duration": 0.099143,
     "end_time": "2023-12-07T04:26:36.265936",
     "exception": false,
     "start_time": "2023-12-07T04:26:36.166793",
     "status": "completed"
    },
    "tags": []
   },
   "outputs": [
    {
     "name": "stdout",
     "output_type": "stream",
     "text": [
      "(88495, 9)\n",
      "(61354, 9)\n"
     ]
    }
   ],
   "source": [
    "print(df_A.shape)\n",
    "print(df_B.shape)"
   ]
  },
  {
   "cell_type": "code",
   "execution_count": 13,
   "id": "d6d4b001",
   "metadata": {
    "execution": {
     "iopub.execute_input": "2023-12-07T04:26:36.292720Z",
     "iopub.status.busy": "2023-12-07T04:26:36.292318Z",
     "iopub.status.idle": "2023-12-07T04:26:36.302720Z",
     "shell.execute_reply": "2023-12-07T04:26:36.301780Z"
    },
    "papermill": {
     "duration": 0.026593,
     "end_time": "2023-12-07T04:26:36.304916",
     "exception": false,
     "start_time": "2023-12-07T04:26:36.278323",
     "status": "completed"
    },
    "tags": []
   },
   "outputs": [
    {
     "data": {
      "text/html": [
       "<div>\n",
       "<style scoped>\n",
       "    .dataframe tbody tr th:only-of-type {\n",
       "        vertical-align: middle;\n",
       "    }\n",
       "\n",
       "    .dataframe tbody tr th {\n",
       "        vertical-align: top;\n",
       "    }\n",
       "\n",
       "    .dataframe thead th {\n",
       "        text-align: right;\n",
       "    }\n",
       "</style>\n",
       "<table border=\"1\" class=\"dataframe\">\n",
       "  <thead>\n",
       "    <tr style=\"text-align: right;\">\n",
       "      <th></th>\n",
       "      <th>B_id</th>\n",
       "      <th>targetAllocation</th>\n",
       "      <th>confidence</th>\n",
       "      <th>explanation</th>\n",
       "    </tr>\n",
       "  </thead>\n",
       "  <tbody>\n",
       "    <tr>\n",
       "      <th>0</th>\n",
       "      <td>749569363550</td>\n",
       "      <td>USD_2023-03-05_ACC#00001_66912     01477014778...</td>\n",
       "      <td>1.00</td>\n",
       "      <td>A_Amount = B_Amount and A_valueDate = B_valueDate</td>\n",
       "    </tr>\n",
       "    <tr>\n",
       "      <th>1</th>\n",
       "      <td>140912616757</td>\n",
       "      <td>[USD_2023-05-31_ACC#00001_66912     0670806708...</td>\n",
       "      <td>0.95</td>\n",
       "      <td>A_Amount = B_Amount and A_transactionAttribute...</td>\n",
       "    </tr>\n",
       "    <tr>\n",
       "      <th>2</th>\n",
       "      <td>666443912041</td>\n",
       "      <td>NaN</td>\n",
       "      <td>0.99</td>\n",
       "      <td>No suitable candidate matches</td>\n",
       "    </tr>\n",
       "    <tr>\n",
       "      <th>3</th>\n",
       "      <td>944631409211</td>\n",
       "      <td>NaN</td>\n",
       "      <td>0.99</td>\n",
       "      <td>No suitable candidate matches</td>\n",
       "    </tr>\n",
       "    <tr>\n",
       "      <th>4</th>\n",
       "      <td>242654454150</td>\n",
       "      <td>NaN</td>\n",
       "      <td>0.99</td>\n",
       "      <td>No suitable candidate matches</td>\n",
       "    </tr>\n",
       "  </tbody>\n",
       "</table>\n",
       "</div>"
      ],
      "text/plain": [
       "           B_id                                   targetAllocation  \\\n",
       "0  749569363550  USD_2023-03-05_ACC#00001_66912     01477014778...   \n",
       "1  140912616757  [USD_2023-05-31_ACC#00001_66912     0670806708...   \n",
       "2  666443912041                                                NaN   \n",
       "3  944631409211                                                NaN   \n",
       "4  242654454150                                                NaN   \n",
       "\n",
       "   confidence                                        explanation  \n",
       "0        1.00  A_Amount = B_Amount and A_valueDate = B_valueDate  \n",
       "1        0.95  A_Amount = B_Amount and A_transactionAttribute...  \n",
       "2        0.99                      No suitable candidate matches  \n",
       "3        0.99                      No suitable candidate matches  \n",
       "4        0.99                      No suitable candidate matches  "
      ]
     },
     "execution_count": 13,
     "metadata": {},
     "output_type": "execute_result"
    }
   ],
   "source": [
    "sample_sub.head()"
   ]
  },
  {
   "cell_type": "code",
   "execution_count": 14,
   "id": "dda3cdba",
   "metadata": {
    "execution": {
     "iopub.execute_input": "2023-12-07T04:26:36.328426Z",
     "iopub.status.busy": "2023-12-07T04:26:36.328083Z",
     "iopub.status.idle": "2023-12-07T04:26:36.335725Z",
     "shell.execute_reply": "2023-12-07T04:26:36.334605Z"
    },
    "papermill": {
     "duration": 0.021738,
     "end_time": "2023-12-07T04:26:36.338108",
     "exception": false,
     "start_time": "2023-12-07T04:26:36.316370",
     "status": "completed"
    },
    "tags": []
   },
   "outputs": [
    {
     "data": {
      "text/plain": [
       "'A_Amount = B_Amount and A_transactionAttributes to B_transactionAttributes'"
      ]
     },
     "execution_count": 14,
     "metadata": {},
     "output_type": "execute_result"
    }
   ],
   "source": [
    "# Lets look at the individual row 2 to see what makes a good match\n",
    "sample_sub.loc[1, 'explanation']"
   ]
  },
  {
   "cell_type": "code",
   "execution_count": 15,
   "id": "6692504d",
   "metadata": {
    "execution": {
     "iopub.execute_input": "2023-12-07T04:26:36.362373Z",
     "iopub.status.busy": "2023-12-07T04:26:36.361937Z",
     "iopub.status.idle": "2023-12-07T04:26:36.386284Z",
     "shell.execute_reply": "2023-12-07T04:26:36.384849Z"
    },
    "papermill": {
     "duration": 0.039477,
     "end_time": "2023-12-07T04:26:36.388962",
     "exception": false,
     "start_time": "2023-12-07T04:26:36.349485",
     "status": "completed"
    },
    "tags": []
   },
   "outputs": [],
   "source": [
    "# Lets creat a feature where it tells if there's a match then its 1 and if there's no match then its a 0 in our training data we will always have a match\n",
    "df['match'] = (df['targetAllocation'].notnull()) | (df['A_allocation'].notnull())"
   ]
  },
  {
   "cell_type": "code",
   "execution_count": 16,
   "id": "ae848897",
   "metadata": {
    "execution": {
     "iopub.execute_input": "2023-12-07T04:26:36.413880Z",
     "iopub.status.busy": "2023-12-07T04:26:36.412844Z",
     "iopub.status.idle": "2023-12-07T04:26:36.433563Z",
     "shell.execute_reply": "2023-12-07T04:26:36.432548Z"
    },
    "papermill": {
     "duration": 0.034948,
     "end_time": "2023-12-07T04:26:36.435518",
     "exception": false,
     "start_time": "2023-12-07T04:26:36.400570",
     "status": "completed"
    },
    "tags": []
   },
   "outputs": [
    {
     "data": {
      "text/html": [
       "<div>\n",
       "<style scoped>\n",
       "    .dataframe tbody tr th:only-of-type {\n",
       "        vertical-align: middle;\n",
       "    }\n",
       "\n",
       "    .dataframe tbody tr th {\n",
       "        vertical-align: top;\n",
       "    }\n",
       "\n",
       "    .dataframe thead th {\n",
       "        text-align: right;\n",
       "    }\n",
       "</style>\n",
       "<table border=\"1\" class=\"dataframe\">\n",
       "  <thead>\n",
       "    <tr style=\"text-align: right;\">\n",
       "      <th></th>\n",
       "      <th>matchId</th>\n",
       "      <th>matchDate</th>\n",
       "      <th>matchRule</th>\n",
       "      <th>matchedBy</th>\n",
       "      <th>wasPreviouslyMismatched</th>\n",
       "      <th>A_transactionType</th>\n",
       "      <th>A_id</th>\n",
       "      <th>A_allocation</th>\n",
       "      <th>A_importDate</th>\n",
       "      <th>A_debitOrCredit</th>\n",
       "      <th>...</th>\n",
       "      <th>B_importDate</th>\n",
       "      <th>B_debitOrCredit</th>\n",
       "      <th>B_amount</th>\n",
       "      <th>B_valueDate</th>\n",
       "      <th>B_currencyCode</th>\n",
       "      <th>B_account</th>\n",
       "      <th>B_transactionReferences</th>\n",
       "      <th>B_transactionAttributes</th>\n",
       "      <th>targetAllocation</th>\n",
       "      <th>match</th>\n",
       "    </tr>\n",
       "  </thead>\n",
       "  <tbody>\n",
       "    <tr>\n",
       "      <th>0</th>\n",
       "      <td>504385986027</td>\n",
       "      <td>2015-03-12</td>\n",
       "      <td>RULE 4</td>\n",
       "      <td>FAECAL IPL</td>\n",
       "      <td>0</td>\n",
       "      <td>NaN</td>\n",
       "      <td>NaN</td>\n",
       "      <td>NaN</td>\n",
       "      <td>NaN</td>\n",
       "      <td>NaN</td>\n",
       "      <td>...</td>\n",
       "      <td>2015-03-09</td>\n",
       "      <td>DR</td>\n",
       "      <td>6.507685e+09</td>\n",
       "      <td>2015-03-08</td>\n",
       "      <td>USD</td>\n",
       "      <td>ACC#00001</td>\n",
       "      <td>JOQGE 5280766176VI</td>\n",
       "      <td>NaN</td>\n",
       "      <td>USD_2015-03-08_ACC#00001_66412     66510665106...</td>\n",
       "      <td>True</td>\n",
       "    </tr>\n",
       "    <tr>\n",
       "      <th>1</th>\n",
       "      <td>504385986027</td>\n",
       "      <td>2015-03-12</td>\n",
       "      <td>NaN</td>\n",
       "      <td>FAECAL IPL</td>\n",
       "      <td>0</td>\n",
       "      <td>NaN</td>\n",
       "      <td>NaN</td>\n",
       "      <td>NaN</td>\n",
       "      <td>NaN</td>\n",
       "      <td>NaN</td>\n",
       "      <td>...</td>\n",
       "      <td>2015-03-12</td>\n",
       "      <td>DR</td>\n",
       "      <td>4.000000e+03</td>\n",
       "      <td>2015-03-08</td>\n",
       "      <td>USD</td>\n",
       "      <td>ACC#00001</td>\n",
       "      <td>JOQGE 5280766176VI</td>\n",
       "      <td>NaN</td>\n",
       "      <td>USD_2015-03-08_ACC#00001_66412     66510665106...</td>\n",
       "      <td>True</td>\n",
       "    </tr>\n",
       "    <tr>\n",
       "      <th>2</th>\n",
       "      <td>504385986027</td>\n",
       "      <td>2015-03-12</td>\n",
       "      <td>RULE 4</td>\n",
       "      <td>FAECAL IPL</td>\n",
       "      <td>0</td>\n",
       "      <td>A</td>\n",
       "      <td>8.061604e+11</td>\n",
       "      <td>USD_2015-03-08_ACC#00001_66412     66510665106...</td>\n",
       "      <td>2015-03-12</td>\n",
       "      <td>CR</td>\n",
       "      <td>...</td>\n",
       "      <td>NaN</td>\n",
       "      <td>NaN</td>\n",
       "      <td>NaN</td>\n",
       "      <td>NaN</td>\n",
       "      <td>NaN</td>\n",
       "      <td>NaN</td>\n",
       "      <td>NaN</td>\n",
       "      <td>NaN</td>\n",
       "      <td>NaN</td>\n",
       "      <td>True</td>\n",
       "    </tr>\n",
       "    <tr>\n",
       "      <th>3</th>\n",
       "      <td>363434063263</td>\n",
       "      <td>2015-03-13</td>\n",
       "      <td>RULE 4</td>\n",
       "      <td>FAECAL</td>\n",
       "      <td>0</td>\n",
       "      <td>NaN</td>\n",
       "      <td>NaN</td>\n",
       "      <td>NaN</td>\n",
       "      <td>NaN</td>\n",
       "      <td>NaN</td>\n",
       "      <td>...</td>\n",
       "      <td>2015-03-13</td>\n",
       "      <td>CR</td>\n",
       "      <td>-4.000000e+03</td>\n",
       "      <td>2015-03-08</td>\n",
       "      <td>USD</td>\n",
       "      <td>ACC#00001</td>\n",
       "      <td>VOLERY L-7186666178VI</td>\n",
       "      <td>OB CROM WOE SLUM MURREY NA 09201-7</td>\n",
       "      <td>NaN</td>\n",
       "      <td>False</td>\n",
       "    </tr>\n",
       "    <tr>\n",
       "      <th>4</th>\n",
       "      <td>870402401618</td>\n",
       "      <td>2015-03-25</td>\n",
       "      <td>RULE 4</td>\n",
       "      <td>FAECAL IPL</td>\n",
       "      <td>0</td>\n",
       "      <td>A</td>\n",
       "      <td>9.271706e+11</td>\n",
       "      <td>USD_2015-03-20_ACC#00001_66412     66073660736...</td>\n",
       "      <td>2015-03-22</td>\n",
       "      <td>DR</td>\n",
       "      <td>...</td>\n",
       "      <td>NaN</td>\n",
       "      <td>NaN</td>\n",
       "      <td>NaN</td>\n",
       "      <td>NaN</td>\n",
       "      <td>NaN</td>\n",
       "      <td>NaN</td>\n",
       "      <td>NaN</td>\n",
       "      <td>NaN</td>\n",
       "      <td>NaN</td>\n",
       "      <td>True</td>\n",
       "    </tr>\n",
       "  </tbody>\n",
       "</table>\n",
       "<p>5 rows × 28 columns</p>\n",
       "</div>"
      ],
      "text/plain": [
       "        matchId   matchDate matchRule   matchedBy  wasPreviouslyMismatched  \\\n",
       "0  504385986027  2015-03-12    RULE 4  FAECAL IPL                        0   \n",
       "1  504385986027  2015-03-12       NaN  FAECAL IPL                        0   \n",
       "2  504385986027  2015-03-12    RULE 4  FAECAL IPL                        0   \n",
       "3  363434063263  2015-03-13    RULE 4      FAECAL                        0   \n",
       "4  870402401618  2015-03-25    RULE 4  FAECAL IPL                        0   \n",
       "\n",
       "  A_transactionType          A_id  \\\n",
       "0               NaN           NaN   \n",
       "1               NaN           NaN   \n",
       "2                 A  8.061604e+11   \n",
       "3               NaN           NaN   \n",
       "4                 A  9.271706e+11   \n",
       "\n",
       "                                        A_allocation A_importDate  \\\n",
       "0                                                NaN          NaN   \n",
       "1                                                NaN          NaN   \n",
       "2  USD_2015-03-08_ACC#00001_66412     66510665106...   2015-03-12   \n",
       "3                                                NaN          NaN   \n",
       "4  USD_2015-03-20_ACC#00001_66412     66073660736...   2015-03-22   \n",
       "\n",
       "  A_debitOrCredit  ...  B_importDate B_debitOrCredit      B_amount  \\\n",
       "0             NaN  ...    2015-03-09              DR  6.507685e+09   \n",
       "1             NaN  ...    2015-03-12              DR  4.000000e+03   \n",
       "2              CR  ...           NaN             NaN           NaN   \n",
       "3             NaN  ...    2015-03-13              CR -4.000000e+03   \n",
       "4              DR  ...           NaN             NaN           NaN   \n",
       "\n",
       "  B_valueDate B_currencyCode  B_account B_transactionReferences  \\\n",
       "0  2015-03-08            USD  ACC#00001      JOQGE 5280766176VI   \n",
       "1  2015-03-08            USD  ACC#00001      JOQGE 5280766176VI   \n",
       "2         NaN            NaN        NaN                     NaN   \n",
       "3  2015-03-08            USD  ACC#00001   VOLERY L-7186666178VI   \n",
       "4         NaN            NaN        NaN                     NaN   \n",
       "\n",
       "              B_transactionAttributes  \\\n",
       "0                                 NaN   \n",
       "1                                 NaN   \n",
       "2                                 NaN   \n",
       "3  OB CROM WOE SLUM MURREY NA 09201-7   \n",
       "4                                 NaN   \n",
       "\n",
       "                                    targetAllocation  match  \n",
       "0  USD_2015-03-08_ACC#00001_66412     66510665106...   True  \n",
       "1  USD_2015-03-08_ACC#00001_66412     66510665106...   True  \n",
       "2                                                NaN   True  \n",
       "3                                                NaN  False  \n",
       "4                                                NaN   True  \n",
       "\n",
       "[5 rows x 28 columns]"
      ]
     },
     "execution_count": 16,
     "metadata": {},
     "output_type": "execute_result"
    }
   ],
   "source": [
    "df.head()"
   ]
  },
  {
   "cell_type": "code",
   "execution_count": 17,
   "id": "b55e72d6",
   "metadata": {
    "execution": {
     "iopub.execute_input": "2023-12-07T04:26:36.459057Z",
     "iopub.status.busy": "2023-12-07T04:26:36.458719Z",
     "iopub.status.idle": "2023-12-07T04:26:36.487515Z",
     "shell.execute_reply": "2023-12-07T04:26:36.486135Z"
    },
    "papermill": {
     "duration": 0.043538,
     "end_time": "2023-12-07T04:26:36.490158",
     "exception": false,
     "start_time": "2023-12-07T04:26:36.446620",
     "status": "completed"
    },
    "tags": []
   },
   "outputs": [],
   "source": [
    "selected_col = [ 'A_id', 'A_allocation', 'A_debitOrCredit', 'A_amount', 'A_valueDate', 'A_currencyCode', 'A_account', 'A_transactionReferences', 'A_transactionAttributes','B_id', 'B_debitOrCredit', 'B_amount', 'B_valueDate', 'B_currencyCode', 'B_account', 'B_transactionReferences', 'B_transactionAttributes', 'targetAllocation', 'match']\n",
    "selected_col_logistic = ['A_id', 'A_debitOrCredit', 'A_amount', 'A_valueDate','B_id', 'B_debitOrCredit', 'B_amount', 'B_valueDate', 'match', 'A_allocation', 'targetAllocation']\n",
    "df_for_logistic = df[selected_col_logistic].copy()\n"
   ]
  },
  {
   "cell_type": "code",
   "execution_count": 18,
   "id": "15dc7d0e",
   "metadata": {
    "execution": {
     "iopub.execute_input": "2023-12-07T04:26:36.514775Z",
     "iopub.status.busy": "2023-12-07T04:26:36.514322Z",
     "iopub.status.idle": "2023-12-07T04:26:36.530668Z",
     "shell.execute_reply": "2023-12-07T04:26:36.529727Z"
    },
    "papermill": {
     "duration": 0.030573,
     "end_time": "2023-12-07T04:26:36.532558",
     "exception": false,
     "start_time": "2023-12-07T04:26:36.501985",
     "status": "completed"
    },
    "tags": []
   },
   "outputs": [
    {
     "data": {
      "text/html": [
       "<div>\n",
       "<style scoped>\n",
       "    .dataframe tbody tr th:only-of-type {\n",
       "        vertical-align: middle;\n",
       "    }\n",
       "\n",
       "    .dataframe tbody tr th {\n",
       "        vertical-align: top;\n",
       "    }\n",
       "\n",
       "    .dataframe thead th {\n",
       "        text-align: right;\n",
       "    }\n",
       "</style>\n",
       "<table border=\"1\" class=\"dataframe\">\n",
       "  <thead>\n",
       "    <tr style=\"text-align: right;\">\n",
       "      <th></th>\n",
       "      <th>A_id</th>\n",
       "      <th>A_debitOrCredit</th>\n",
       "      <th>A_amount</th>\n",
       "      <th>A_valueDate</th>\n",
       "      <th>B_id</th>\n",
       "      <th>B_debitOrCredit</th>\n",
       "      <th>B_amount</th>\n",
       "      <th>B_valueDate</th>\n",
       "      <th>match</th>\n",
       "      <th>A_allocation</th>\n",
       "      <th>targetAllocation</th>\n",
       "    </tr>\n",
       "  </thead>\n",
       "  <tbody>\n",
       "    <tr>\n",
       "      <th>0</th>\n",
       "      <td>NaN</td>\n",
       "      <td>NaN</td>\n",
       "      <td>NaN</td>\n",
       "      <td>NaN</td>\n",
       "      <td>2.800080e+11</td>\n",
       "      <td>DR</td>\n",
       "      <td>6.507685e+09</td>\n",
       "      <td>2015-03-08</td>\n",
       "      <td>True</td>\n",
       "      <td>NaN</td>\n",
       "      <td>USD_2015-03-08_ACC#00001_66412     66510665106...</td>\n",
       "    </tr>\n",
       "    <tr>\n",
       "      <th>1</th>\n",
       "      <td>NaN</td>\n",
       "      <td>NaN</td>\n",
       "      <td>NaN</td>\n",
       "      <td>NaN</td>\n",
       "      <td>9.830071e+11</td>\n",
       "      <td>DR</td>\n",
       "      <td>4.000000e+03</td>\n",
       "      <td>2015-03-08</td>\n",
       "      <td>True</td>\n",
       "      <td>NaN</td>\n",
       "      <td>USD_2015-03-08_ACC#00001_66412     66510665106...</td>\n",
       "    </tr>\n",
       "    <tr>\n",
       "      <th>2</th>\n",
       "      <td>8.061604e+11</td>\n",
       "      <td>CR</td>\n",
       "      <td>6.507682e+09</td>\n",
       "      <td>2015-03-08</td>\n",
       "      <td>NaN</td>\n",
       "      <td>NaN</td>\n",
       "      <td>NaN</td>\n",
       "      <td>NaN</td>\n",
       "      <td>True</td>\n",
       "      <td>USD_2015-03-08_ACC#00001_66412     66510665106...</td>\n",
       "      <td>NaN</td>\n",
       "    </tr>\n",
       "    <tr>\n",
       "      <th>3</th>\n",
       "      <td>NaN</td>\n",
       "      <td>NaN</td>\n",
       "      <td>NaN</td>\n",
       "      <td>NaN</td>\n",
       "      <td>4.657845e+11</td>\n",
       "      <td>CR</td>\n",
       "      <td>-4.000000e+03</td>\n",
       "      <td>2015-03-08</td>\n",
       "      <td>False</td>\n",
       "      <td>NaN</td>\n",
       "      <td>NaN</td>\n",
       "    </tr>\n",
       "    <tr>\n",
       "      <th>4</th>\n",
       "      <td>9.271706e+11</td>\n",
       "      <td>DR</td>\n",
       "      <td>-4.720000e+03</td>\n",
       "      <td>2015-03-20</td>\n",
       "      <td>NaN</td>\n",
       "      <td>NaN</td>\n",
       "      <td>NaN</td>\n",
       "      <td>NaN</td>\n",
       "      <td>True</td>\n",
       "      <td>USD_2015-03-20_ACC#00001_66412     66073660736...</td>\n",
       "      <td>NaN</td>\n",
       "    </tr>\n",
       "  </tbody>\n",
       "</table>\n",
       "</div>"
      ],
      "text/plain": [
       "           A_id A_debitOrCredit      A_amount A_valueDate          B_id  \\\n",
       "0           NaN             NaN           NaN         NaN  2.800080e+11   \n",
       "1           NaN             NaN           NaN         NaN  9.830071e+11   \n",
       "2  8.061604e+11              CR  6.507682e+09  2015-03-08           NaN   \n",
       "3           NaN             NaN           NaN         NaN  4.657845e+11   \n",
       "4  9.271706e+11              DR -4.720000e+03  2015-03-20           NaN   \n",
       "\n",
       "  B_debitOrCredit      B_amount B_valueDate  match  \\\n",
       "0              DR  6.507685e+09  2015-03-08   True   \n",
       "1              DR  4.000000e+03  2015-03-08   True   \n",
       "2             NaN           NaN         NaN   True   \n",
       "3              CR -4.000000e+03  2015-03-08  False   \n",
       "4             NaN           NaN         NaN   True   \n",
       "\n",
       "                                        A_allocation  \\\n",
       "0                                                NaN   \n",
       "1                                                NaN   \n",
       "2  USD_2015-03-08_ACC#00001_66412     66510665106...   \n",
       "3                                                NaN   \n",
       "4  USD_2015-03-20_ACC#00001_66412     66073660736...   \n",
       "\n",
       "                                    targetAllocation  \n",
       "0  USD_2015-03-08_ACC#00001_66412     66510665106...  \n",
       "1  USD_2015-03-08_ACC#00001_66412     66510665106...  \n",
       "2                                                NaN  \n",
       "3                                                NaN  \n",
       "4                                                NaN  "
      ]
     },
     "execution_count": 18,
     "metadata": {},
     "output_type": "execute_result"
    }
   ],
   "source": [
    "df_for_logistic.head()"
   ]
  },
  {
   "cell_type": "code",
   "execution_count": 19,
   "id": "57481865",
   "metadata": {
    "execution": {
     "iopub.execute_input": "2023-12-07T04:26:36.556731Z",
     "iopub.status.busy": "2023-12-07T04:26:36.556380Z",
     "iopub.status.idle": "2023-12-07T04:26:36.560840Z",
     "shell.execute_reply": "2023-12-07T04:26:36.560304Z"
    },
    "papermill": {
     "duration": 0.018845,
     "end_time": "2023-12-07T04:26:36.562618",
     "exception": false,
     "start_time": "2023-12-07T04:26:36.543773",
     "status": "completed"
    },
    "tags": []
   },
   "outputs": [
    {
     "name": "stdout",
     "output_type": "stream",
     "text": [
      "The number of False values in the new_feature column is: 1359\n"
     ]
    }
   ],
   "source": [
    "num_false_values = (df_for_logistic['match'] == False).sum()\n",
    "print(f\"The number of False values in the new_feature column is: {num_false_values}\")"
   ]
  },
  {
   "cell_type": "markdown",
   "id": "901bdbd5",
   "metadata": {
    "papermill": {
     "duration": 0.011248,
     "end_time": "2023-12-07T04:26:36.585117",
     "exception": false,
     "start_time": "2023-12-07T04:26:36.573869",
     "status": "completed"
    },
    "tags": []
   },
   "source": [
    "Lets create a logistic Regression model that predicts whether we have a match or not"
   ]
  },
  {
   "cell_type": "markdown",
   "id": "87eb86f5",
   "metadata": {
    "papermill": {
     "duration": 0.010708,
     "end_time": "2023-12-07T04:26:36.606841",
     "exception": false,
     "start_time": "2023-12-07T04:26:36.596133",
     "status": "completed"
    },
    "tags": []
   },
   "source": [
    "<h1>Logistic Regression and Random Forest Model for predicting whether there is a match or not </h1>"
   ]
  },
  {
   "cell_type": "code",
   "execution_count": 20,
   "id": "9f905d81",
   "metadata": {
    "execution": {
     "iopub.execute_input": "2023-12-07T04:26:36.631342Z",
     "iopub.status.busy": "2023-12-07T04:26:36.630572Z",
     "iopub.status.idle": "2023-12-07T04:26:37.971834Z",
     "shell.execute_reply": "2023-12-07T04:26:37.970967Z"
    },
    "papermill": {
     "duration": 1.356616,
     "end_time": "2023-12-07T04:26:37.974432",
     "exception": false,
     "start_time": "2023-12-07T04:26:36.617816",
     "status": "completed"
    },
    "tags": []
   },
   "outputs": [],
   "source": [
    "from sklearn.linear_model import LogisticRegression\n",
    "from sklearn.model_selection import train_test_split\n",
    "from sklearn.metrics import accuracy_score, classification_report, log_loss\n"
   ]
  },
  {
   "cell_type": "markdown",
   "id": "ed3cb4b0",
   "metadata": {
    "papermill": {
     "duration": 0.011195,
     "end_time": "2023-12-07T04:26:37.998383",
     "exception": false,
     "start_time": "2023-12-07T04:26:37.987188",
     "status": "completed"
    },
    "tags": []
   },
   "source": [
    "Cannot use Transaction Attribute as it is a string value"
   ]
  },
  {
   "cell_type": "code",
   "execution_count": 21,
   "id": "accf1c4c",
   "metadata": {
    "execution": {
     "iopub.execute_input": "2023-12-07T04:26:38.024752Z",
     "iopub.status.busy": "2023-12-07T04:26:38.023288Z",
     "iopub.status.idle": "2023-12-07T04:26:38.439443Z",
     "shell.execute_reply": "2023-12-07T04:26:38.438408Z"
    },
    "papermill": {
     "duration": 0.431429,
     "end_time": "2023-12-07T04:26:38.441507",
     "exception": false,
     "start_time": "2023-12-07T04:26:38.010078",
     "status": "completed"
    },
    "tags": []
   },
   "outputs": [
    {
     "name": "stdout",
     "output_type": "stream",
     "text": [
      "float64\n"
     ]
    }
   ],
   "source": [
    "df_for_logistic['A_valueDate'] = pd.to_datetime(df_for_logistic['A_valueDate'], format='%Y-%m-%d', errors='coerce')\n",
    "\n",
    "# Extracting numerical representation from the date\n",
    "df_for_logistic['A_valueDate_numeric'] = df_for_logistic['A_valueDate'].dt.strftime('%Y%m%d').astype(float)\n",
    "\n",
    "data_type_val = df_for_logistic['A_valueDate_numeric'].dtypes\n",
    "print(data_type_val)\n",
    "\n",
    "\n"
   ]
  },
  {
   "cell_type": "code",
   "execution_count": 22,
   "id": "3995a003",
   "metadata": {
    "execution": {
     "iopub.execute_input": "2023-12-07T04:26:38.468168Z",
     "iopub.status.busy": "2023-12-07T04:26:38.467685Z",
     "iopub.status.idle": "2023-12-07T04:26:38.825263Z",
     "shell.execute_reply": "2023-12-07T04:26:38.823694Z"
    },
    "papermill": {
     "duration": 0.373131,
     "end_time": "2023-12-07T04:26:38.826962",
     "exception": false,
     "start_time": "2023-12-07T04:26:38.453831",
     "status": "completed"
    },
    "tags": []
   },
   "outputs": [
    {
     "name": "stdout",
     "output_type": "stream",
     "text": [
      "float64\n"
     ]
    }
   ],
   "source": [
    "df_for_logistic['B_valueDate'] = pd.to_datetime(df_for_logistic['B_valueDate'], format='%Y-%m-%d', errors='coerce')\n",
    "\n",
    "# Extracting numerical representation from the date\n",
    "df_for_logistic['B_valueDate_numeric'] = df_for_logistic['B_valueDate'].dt.strftime('%Y%m%d').astype(float)\n",
    "\n",
    "data_type_valB = df_for_logistic['B_valueDate_numeric'].dtypes\n",
    "print(data_type_valB)\n"
   ]
  },
  {
   "cell_type": "code",
   "execution_count": 23,
   "id": "635961f8",
   "metadata": {
    "execution": {
     "iopub.execute_input": "2023-12-07T04:26:38.853373Z",
     "iopub.status.busy": "2023-12-07T04:26:38.852964Z",
     "iopub.status.idle": "2023-12-07T04:26:38.908559Z",
     "shell.execute_reply": "2023-12-07T04:26:38.907672Z"
    },
    "papermill": {
     "duration": 0.071031,
     "end_time": "2023-12-07T04:26:38.910624",
     "exception": false,
     "start_time": "2023-12-07T04:26:38.839593",
     "status": "completed"
    },
    "tags": []
   },
   "outputs": [
    {
     "data": {
      "text/html": [
       "<div>\n",
       "<style scoped>\n",
       "    .dataframe tbody tr th:only-of-type {\n",
       "        vertical-align: middle;\n",
       "    }\n",
       "\n",
       "    .dataframe tbody tr th {\n",
       "        vertical-align: top;\n",
       "    }\n",
       "\n",
       "    .dataframe thead th {\n",
       "        text-align: right;\n",
       "    }\n",
       "</style>\n",
       "<table border=\"1\" class=\"dataframe\">\n",
       "  <thead>\n",
       "    <tr style=\"text-align: right;\">\n",
       "      <th></th>\n",
       "      <th>A_id</th>\n",
       "      <th>A_amount</th>\n",
       "      <th>A_valueDate</th>\n",
       "      <th>B_id</th>\n",
       "      <th>B_debitOrCredit</th>\n",
       "      <th>B_amount</th>\n",
       "      <th>B_valueDate</th>\n",
       "      <th>match</th>\n",
       "      <th>A_allocation</th>\n",
       "      <th>targetAllocation</th>\n",
       "      <th>A_valueDate_numeric</th>\n",
       "      <th>B_valueDate_numeric</th>\n",
       "      <th>A_debitOrCredit_CR</th>\n",
       "      <th>A_debitOrCredit_DR</th>\n",
       "    </tr>\n",
       "  </thead>\n",
       "  <tbody>\n",
       "    <tr>\n",
       "      <th>0</th>\n",
       "      <td>NaN</td>\n",
       "      <td>NaN</td>\n",
       "      <td>NaT</td>\n",
       "      <td>2.800080e+11</td>\n",
       "      <td>DR</td>\n",
       "      <td>6.507685e+09</td>\n",
       "      <td>2015-03-08</td>\n",
       "      <td>True</td>\n",
       "      <td>NaN</td>\n",
       "      <td>USD_2015-03-08_ACC#00001_66412     66510665106...</td>\n",
       "      <td>NaN</td>\n",
       "      <td>20150308.0</td>\n",
       "      <td>0</td>\n",
       "      <td>0</td>\n",
       "    </tr>\n",
       "    <tr>\n",
       "      <th>1</th>\n",
       "      <td>NaN</td>\n",
       "      <td>NaN</td>\n",
       "      <td>NaT</td>\n",
       "      <td>9.830071e+11</td>\n",
       "      <td>DR</td>\n",
       "      <td>4.000000e+03</td>\n",
       "      <td>2015-03-08</td>\n",
       "      <td>True</td>\n",
       "      <td>NaN</td>\n",
       "      <td>USD_2015-03-08_ACC#00001_66412     66510665106...</td>\n",
       "      <td>NaN</td>\n",
       "      <td>20150308.0</td>\n",
       "      <td>0</td>\n",
       "      <td>0</td>\n",
       "    </tr>\n",
       "    <tr>\n",
       "      <th>2</th>\n",
       "      <td>8.061604e+11</td>\n",
       "      <td>6.507682e+09</td>\n",
       "      <td>2015-03-08</td>\n",
       "      <td>NaN</td>\n",
       "      <td>NaN</td>\n",
       "      <td>NaN</td>\n",
       "      <td>NaT</td>\n",
       "      <td>True</td>\n",
       "      <td>USD_2015-03-08_ACC#00001_66412     66510665106...</td>\n",
       "      <td>NaN</td>\n",
       "      <td>20150308.0</td>\n",
       "      <td>NaN</td>\n",
       "      <td>1</td>\n",
       "      <td>0</td>\n",
       "    </tr>\n",
       "    <tr>\n",
       "      <th>3</th>\n",
       "      <td>NaN</td>\n",
       "      <td>NaN</td>\n",
       "      <td>NaT</td>\n",
       "      <td>4.657845e+11</td>\n",
       "      <td>CR</td>\n",
       "      <td>-4.000000e+03</td>\n",
       "      <td>2015-03-08</td>\n",
       "      <td>False</td>\n",
       "      <td>NaN</td>\n",
       "      <td>NaN</td>\n",
       "      <td>NaN</td>\n",
       "      <td>20150308.0</td>\n",
       "      <td>0</td>\n",
       "      <td>0</td>\n",
       "    </tr>\n",
       "    <tr>\n",
       "      <th>4</th>\n",
       "      <td>9.271706e+11</td>\n",
       "      <td>-4.720000e+03</td>\n",
       "      <td>2015-03-20</td>\n",
       "      <td>NaN</td>\n",
       "      <td>NaN</td>\n",
       "      <td>NaN</td>\n",
       "      <td>NaT</td>\n",
       "      <td>True</td>\n",
       "      <td>USD_2015-03-20_ACC#00001_66412     66073660736...</td>\n",
       "      <td>NaN</td>\n",
       "      <td>20150320.0</td>\n",
       "      <td>NaN</td>\n",
       "      <td>0</td>\n",
       "      <td>1</td>\n",
       "    </tr>\n",
       "  </tbody>\n",
       "</table>\n",
       "</div>"
      ],
      "text/plain": [
       "           A_id      A_amount A_valueDate          B_id B_debitOrCredit  \\\n",
       "0           NaN           NaN         NaT  2.800080e+11              DR   \n",
       "1           NaN           NaN         NaT  9.830071e+11              DR   \n",
       "2  8.061604e+11  6.507682e+09  2015-03-08           NaN             NaN   \n",
       "3           NaN           NaN         NaT  4.657845e+11              CR   \n",
       "4  9.271706e+11 -4.720000e+03  2015-03-20           NaN             NaN   \n",
       "\n",
       "       B_amount B_valueDate  match  \\\n",
       "0  6.507685e+09  2015-03-08   True   \n",
       "1  4.000000e+03  2015-03-08   True   \n",
       "2           NaN         NaT   True   \n",
       "3 -4.000000e+03  2015-03-08  False   \n",
       "4           NaN         NaT   True   \n",
       "\n",
       "                                        A_allocation  \\\n",
       "0                                                NaN   \n",
       "1                                                NaN   \n",
       "2  USD_2015-03-08_ACC#00001_66412     66510665106...   \n",
       "3                                                NaN   \n",
       "4  USD_2015-03-20_ACC#00001_66412     66073660736...   \n",
       "\n",
       "                                    targetAllocation  A_valueDate_numeric  \\\n",
       "0  USD_2015-03-08_ACC#00001_66412     66510665106...                  NaN   \n",
       "1  USD_2015-03-08_ACC#00001_66412     66510665106...                  NaN   \n",
       "2                                                NaN           20150308.0   \n",
       "3                                                NaN                  NaN   \n",
       "4                                                NaN           20150320.0   \n",
       "\n",
       "   B_valueDate_numeric  A_debitOrCredit_CR  A_debitOrCredit_DR  \n",
       "0           20150308.0                   0                   0  \n",
       "1           20150308.0                   0                   0  \n",
       "2                  NaN                   1                   0  \n",
       "3           20150308.0                   0                   0  \n",
       "4                  NaN                   0                   1  "
      ]
     },
     "execution_count": 23,
     "metadata": {},
     "output_type": "execute_result"
    }
   ],
   "source": [
    "df_for_logistic = pd.get_dummies(df_for_logistic, columns=['A_debitOrCredit'], prefix='A_debitOrCredit')\n",
    "\n",
    "# Convert True/False to 1/0 for the one-hot encoded columns\n",
    "df_for_logistic['A_debitOrCredit_CR'] = df_for_logistic['A_debitOrCredit_CR'].astype(int)\n",
    "df_for_logistic['A_debitOrCredit_DR'] = df_for_logistic['A_debitOrCredit_DR'].astype(int)\n",
    "\n",
    "df_for_logistic.head()"
   ]
  },
  {
   "cell_type": "code",
   "execution_count": 24,
   "id": "94e57005",
   "metadata": {
    "execution": {
     "iopub.execute_input": "2023-12-07T04:26:38.936840Z",
     "iopub.status.busy": "2023-12-07T04:26:38.936462Z",
     "iopub.status.idle": "2023-12-07T04:26:38.980719Z",
     "shell.execute_reply": "2023-12-07T04:26:38.978900Z"
    },
    "papermill": {
     "duration": 0.060095,
     "end_time": "2023-12-07T04:26:38.983525",
     "exception": false,
     "start_time": "2023-12-07T04:26:38.923430",
     "status": "completed"
    },
    "tags": []
   },
   "outputs": [
    {
     "name": "stdout",
     "output_type": "stream",
     "text": [
      "['A_id', 'A_amount', 'A_valueDate', 'B_id', 'B_amount', 'B_valueDate', 'match', 'A_allocation', 'targetAllocation', 'A_valueDate_numeric', 'B_valueDate_numeric', 'A_debitOrCredit_CR', 'A_debitOrCredit_DR', 'B_debitOrCredit_CR', 'B_debitOrCredit_DR']\n"
     ]
    }
   ],
   "source": [
    "df_for_logistic = pd.get_dummies(df_for_logistic, columns=['B_debitOrCredit'], prefix='B_debitOrCredit')\n",
    "\n",
    "# Convert True/False to 1/0 for the one-hot encoded columns\n",
    "df_for_logistic['B_debitOrCredit_CR'] = df_for_logistic['B_debitOrCredit_CR'].astype(int)\n",
    "df_for_logistic['B_debitOrCredit_DR'] = df_for_logistic['B_debitOrCredit_DR'].astype(int)\n",
    "\n",
    "name_of_columns = df_for_logistic.columns.tolist()\n",
    "print(name_of_columns)"
   ]
  },
  {
   "cell_type": "code",
   "execution_count": 25,
   "id": "b6d9d52e",
   "metadata": {
    "execution": {
     "iopub.execute_input": "2023-12-07T04:26:39.011994Z",
     "iopub.status.busy": "2023-12-07T04:26:39.011521Z",
     "iopub.status.idle": "2023-12-07T04:26:39.031481Z",
     "shell.execute_reply": "2023-12-07T04:26:39.030524Z"
    },
    "papermill": {
     "duration": 0.036012,
     "end_time": "2023-12-07T04:26:39.033536",
     "exception": false,
     "start_time": "2023-12-07T04:26:38.997524",
     "status": "completed"
    },
    "tags": []
   },
   "outputs": [
    {
     "name": "stdout",
     "output_type": "stream",
     "text": [
      "['A_id', 'A_amount', 'B_id', 'B_amount', 'A_valueDate_numeric', 'B_valueDate_numeric']\n",
      "['A_debitOrCredit_CR', 'A_debitOrCredit_DR', 'B_debitOrCredit_CR', 'B_debitOrCredit_DR']\n",
      "['A_id', 'A_amount', 'B_id', 'B_amount', 'A_valueDate_numeric', 'B_valueDate_numeric', 'A_debitOrCredit_CR', 'A_debitOrCredit_DR', 'B_debitOrCredit_CR', 'B_debitOrCredit_DR']\n"
     ]
    }
   ],
   "source": [
    "# For float64 columns\n",
    "float_feature_list = list(df_for_logistic.select_dtypes('float64').columns)\n",
    "print(float_feature_list)\n",
    "\n",
    "# For int64 columns\n",
    "int_feature_list = list(df_for_logistic.select_dtypes('int64').columns)\n",
    "print(int_feature_list)\n",
    "feature_list = list(df_for_logistic.select_dtypes(['float64', 'int64']).columns)\n",
    "print(feature_list)"
   ]
  },
  {
   "cell_type": "code",
   "execution_count": 26,
   "id": "70f21671",
   "metadata": {
    "execution": {
     "iopub.execute_input": "2023-12-07T04:26:39.061281Z",
     "iopub.status.busy": "2023-12-07T04:26:39.060739Z",
     "iopub.status.idle": "2023-12-07T04:26:39.269172Z",
     "shell.execute_reply": "2023-12-07T04:26:39.268427Z"
    },
    "papermill": {
     "duration": 0.224596,
     "end_time": "2023-12-07T04:26:39.271310",
     "exception": false,
     "start_time": "2023-12-07T04:26:39.046714",
     "status": "completed"
    },
    "tags": []
   },
   "outputs": [
    {
     "name": "stderr",
     "output_type": "stream",
     "text": [
      "/opt/conda/lib/python3.10/site-packages/sklearn/linear_model/_logistic.py:458: ConvergenceWarning: lbfgs failed to converge (status=2):\n",
      "ABNORMAL_TERMINATION_IN_LNSRCH.\n",
      "\n",
      "Increase the number of iterations (max_iter) or scale the data as shown in:\n",
      "    https://scikit-learn.org/stable/modules/preprocessing.html\n",
      "Please also refer to the documentation for alternative solver options:\n",
      "    https://scikit-learn.org/stable/modules/linear_model.html#logistic-regression\n",
      "  n_iter_i = _check_optimize_result(\n"
     ]
    },
    {
     "data": {
      "text/html": [
       "<style>#sk-container-id-1 {color: black;background-color: white;}#sk-container-id-1 pre{padding: 0;}#sk-container-id-1 div.sk-toggleable {background-color: white;}#sk-container-id-1 label.sk-toggleable__label {cursor: pointer;display: block;width: 100%;margin-bottom: 0;padding: 0.3em;box-sizing: border-box;text-align: center;}#sk-container-id-1 label.sk-toggleable__label-arrow:before {content: \"▸\";float: left;margin-right: 0.25em;color: #696969;}#sk-container-id-1 label.sk-toggleable__label-arrow:hover:before {color: black;}#sk-container-id-1 div.sk-estimator:hover label.sk-toggleable__label-arrow:before {color: black;}#sk-container-id-1 div.sk-toggleable__content {max-height: 0;max-width: 0;overflow: hidden;text-align: left;background-color: #f0f8ff;}#sk-container-id-1 div.sk-toggleable__content pre {margin: 0.2em;color: black;border-radius: 0.25em;background-color: #f0f8ff;}#sk-container-id-1 input.sk-toggleable__control:checked~div.sk-toggleable__content {max-height: 200px;max-width: 100%;overflow: auto;}#sk-container-id-1 input.sk-toggleable__control:checked~label.sk-toggleable__label-arrow:before {content: \"▾\";}#sk-container-id-1 div.sk-estimator input.sk-toggleable__control:checked~label.sk-toggleable__label {background-color: #d4ebff;}#sk-container-id-1 div.sk-label input.sk-toggleable__control:checked~label.sk-toggleable__label {background-color: #d4ebff;}#sk-container-id-1 input.sk-hidden--visually {border: 0;clip: rect(1px 1px 1px 1px);clip: rect(1px, 1px, 1px, 1px);height: 1px;margin: -1px;overflow: hidden;padding: 0;position: absolute;width: 1px;}#sk-container-id-1 div.sk-estimator {font-family: monospace;background-color: #f0f8ff;border: 1px dotted black;border-radius: 0.25em;box-sizing: border-box;margin-bottom: 0.5em;}#sk-container-id-1 div.sk-estimator:hover {background-color: #d4ebff;}#sk-container-id-1 div.sk-parallel-item::after {content: \"\";width: 100%;border-bottom: 1px solid gray;flex-grow: 1;}#sk-container-id-1 div.sk-label:hover label.sk-toggleable__label {background-color: #d4ebff;}#sk-container-id-1 div.sk-serial::before {content: \"\";position: absolute;border-left: 1px solid gray;box-sizing: border-box;top: 0;bottom: 0;left: 50%;z-index: 0;}#sk-container-id-1 div.sk-serial {display: flex;flex-direction: column;align-items: center;background-color: white;padding-right: 0.2em;padding-left: 0.2em;position: relative;}#sk-container-id-1 div.sk-item {position: relative;z-index: 1;}#sk-container-id-1 div.sk-parallel {display: flex;align-items: stretch;justify-content: center;background-color: white;position: relative;}#sk-container-id-1 div.sk-item::before, #sk-container-id-1 div.sk-parallel-item::before {content: \"\";position: absolute;border-left: 1px solid gray;box-sizing: border-box;top: 0;bottom: 0;left: 50%;z-index: -1;}#sk-container-id-1 div.sk-parallel-item {display: flex;flex-direction: column;z-index: 1;position: relative;background-color: white;}#sk-container-id-1 div.sk-parallel-item:first-child::after {align-self: flex-end;width: 50%;}#sk-container-id-1 div.sk-parallel-item:last-child::after {align-self: flex-start;width: 50%;}#sk-container-id-1 div.sk-parallel-item:only-child::after {width: 0;}#sk-container-id-1 div.sk-dashed-wrapped {border: 1px dashed gray;margin: 0 0.4em 0.5em 0.4em;box-sizing: border-box;padding-bottom: 0.4em;background-color: white;}#sk-container-id-1 div.sk-label label {font-family: monospace;font-weight: bold;display: inline-block;line-height: 1.2em;}#sk-container-id-1 div.sk-label-container {text-align: center;}#sk-container-id-1 div.sk-container {/* jupyter's `normalize.less` sets `[hidden] { display: none; }` but bootstrap.min.css set `[hidden] { display: none !important; }` so we also need the `!important` here to be able to override the default hidden behavior on the sphinx rendered scikit-learn.org. See: https://github.com/scikit-learn/scikit-learn/issues/21755 */display: inline-block !important;position: relative;}#sk-container-id-1 div.sk-text-repr-fallback {display: none;}</style><div id=\"sk-container-id-1\" class=\"sk-top-container\"><div class=\"sk-text-repr-fallback\"><pre>LogisticRegression()</pre><b>In a Jupyter environment, please rerun this cell to show the HTML representation or trust the notebook. <br />On GitHub, the HTML representation is unable to render, please try loading this page with nbviewer.org.</b></div><div class=\"sk-container\" hidden><div class=\"sk-item\"><div class=\"sk-estimator sk-toggleable\"><input class=\"sk-toggleable__control sk-hidden--visually\" id=\"sk-estimator-id-1\" type=\"checkbox\" checked><label for=\"sk-estimator-id-1\" class=\"sk-toggleable__label sk-toggleable__label-arrow\">LogisticRegression</label><div class=\"sk-toggleable__content\"><pre>LogisticRegression()</pre></div></div></div></div></div>"
      ],
      "text/plain": [
       "LogisticRegression()"
      ]
     },
     "execution_count": 26,
     "metadata": {},
     "output_type": "execute_result"
    }
   ],
   "source": [
    "X = df_for_logistic[feature_list]\n",
    "y = df_for_logistic['match']\n",
    "\n",
    "# Split the data into training and testing sets\n",
    "X_train, X_test, y_train, y_test = train_test_split(X, y, test_size=0.2, random_state=1234)\n",
    "\n",
    "# Replace NaN values with 0 in both training and testing sets\n",
    "X_train = X_train.fillna(0)\n",
    "X_test = X_test.fillna(0)\n",
    "\n",
    "# Initialize and train the logistic regression model\n",
    "model = LogisticRegression()\n",
    "model.fit(X_train, y_train)\n"
   ]
  },
  {
   "cell_type": "code",
   "execution_count": 27,
   "id": "d0e6ba3e",
   "metadata": {
    "execution": {
     "iopub.execute_input": "2023-12-07T04:26:39.308376Z",
     "iopub.status.busy": "2023-12-07T04:26:39.306970Z",
     "iopub.status.idle": "2023-12-07T04:26:39.322283Z",
     "shell.execute_reply": "2023-12-07T04:26:39.321467Z"
    },
    "papermill": {
     "duration": 0.035596,
     "end_time": "2023-12-07T04:26:39.324460",
     "exception": false,
     "start_time": "2023-12-07T04:26:39.288864",
     "status": "completed"
    },
    "tags": []
   },
   "outputs": [
    {
     "name": "stdout",
     "output_type": "stream",
     "text": [
      "Accuracy: 0.01\n"
     ]
    }
   ],
   "source": [
    "from sklearn.metrics import accuracy_score\n",
    "\n",
    "# Predict on the testing set\n",
    "y_pred = model.predict(X_test)\n",
    "\n",
    "# Calculate the accuracy score\n",
    "accuracy_LR = accuracy_score(y_test, y_pred)\n",
    "\n",
    "print(f'Accuracy: {accuracy_LR:.2f}')"
   ]
  },
  {
   "cell_type": "markdown",
   "id": "5bc44a55",
   "metadata": {
    "papermill": {
     "duration": 0.017167,
     "end_time": "2023-12-07T04:26:39.358660",
     "exception": false,
     "start_time": "2023-12-07T04:26:39.341493",
     "status": "completed"
    },
    "tags": []
   },
   "source": [
    "**A logistic Regression model despite seeming like a good choice would not work for the given train dataset as most of the matches are true and there's an imbalance, so we would need to explore better models like Random forest or gradient boosting**"
   ]
  },
  {
   "cell_type": "code",
   "execution_count": 28,
   "id": "aa3e3942",
   "metadata": {
    "execution": {
     "iopub.execute_input": "2023-12-07T04:26:39.398348Z",
     "iopub.status.busy": "2023-12-07T04:26:39.396916Z",
     "iopub.status.idle": "2023-12-07T04:26:52.817298Z",
     "shell.execute_reply": "2023-12-07T04:26:52.815901Z"
    },
    "papermill": {
     "duration": 13.443027,
     "end_time": "2023-12-07T04:26:52.820336",
     "exception": false,
     "start_time": "2023-12-07T04:26:39.377309",
     "status": "completed"
    },
    "tags": []
   },
   "outputs": [
    {
     "name": "stdout",
     "output_type": "stream",
     "text": [
      "Accuracy: 0.9945\n",
      "Log Loss: 0.0963\n"
     ]
    }
   ],
   "source": [
    "from sklearn.ensemble import RandomForestClassifier\n",
    "from sklearn.metrics import accuracy_score, log_loss\n",
    "from sklearn.model_selection import train_test_split\n",
    "\n",
    "X_train, X_test, y_train, y_test = train_test_split(X, y, test_size=0.2, random_state=42)\n",
    "X_train = X_train.fillna(0)\n",
    "X_test = X_test.fillna(0)\n",
    "# Initialize the Random Forest model\n",
    "rf_model = RandomForestClassifier(n_estimators=100, random_state=42)\n",
    "\n",
    "# Train the model on the training data\n",
    "rf_model.fit(X_train, y_train)\n",
    "\n",
    "# Make predictions on the test data\n",
    "rf_predictions = rf_model.predict(X_test)\n",
    "rf_prob_predictions = rf_model.predict_proba(X_test)\n",
    "\n",
    "\n",
    "accuracy_RF = accuracy_score(y_test, rf_predictions)\n",
    "print(f'Accuracy: {accuracy_RF:.4f}')\n",
    "\n",
    "\n",
    "logloss = log_loss(y_test, rf_prob_predictions)\n",
    "print(f'Log Loss: {logloss:.4f}')\n"
   ]
  },
  {
   "cell_type": "code",
   "execution_count": 29,
   "id": "37975e8b",
   "metadata": {
    "execution": {
     "iopub.execute_input": "2023-12-07T04:26:52.848051Z",
     "iopub.status.busy": "2023-12-07T04:26:52.847579Z",
     "iopub.status.idle": "2023-12-07T04:26:52.965564Z",
     "shell.execute_reply": "2023-12-07T04:26:52.964166Z"
    },
    "papermill": {
     "duration": 0.134362,
     "end_time": "2023-12-07T04:26:52.968199",
     "exception": false,
     "start_time": "2023-12-07T04:26:52.833837",
     "status": "completed"
    },
    "tags": []
   },
   "outputs": [],
   "source": [
    "#Lets create a feature where it tells if there's a match then its 1 and if there's no match then its a 0 in our training data we will always have a match\n",
    "eval_data['match'] = (eval_data['targetAllocation'].notnull()) | (df['A_allocation'].notnull())"
   ]
  },
  {
   "cell_type": "code",
   "execution_count": 30,
   "id": "f066d273",
   "metadata": {
    "execution": {
     "iopub.execute_input": "2023-12-07T04:26:52.995634Z",
     "iopub.status.busy": "2023-12-07T04:26:52.995283Z",
     "iopub.status.idle": "2023-12-07T04:26:53.186769Z",
     "shell.execute_reply": "2023-12-07T04:26:53.184835Z"
    },
    "papermill": {
     "duration": 0.208453,
     "end_time": "2023-12-07T04:26:53.190016",
     "exception": false,
     "start_time": "2023-12-07T04:26:52.981563",
     "status": "completed"
    },
    "tags": []
   },
   "outputs": [
    {
     "name": "stdout",
     "output_type": "stream",
     "text": [
      "float64\n"
     ]
    }
   ],
   "source": [
    "eval_data['A_valueDate'] = pd.to_datetime(eval_data['A_valueDate'], format='%Y-%m-%d', errors='coerce')\n",
    "\n",
    "# Extracting numerical representation from the date\n",
    "eval_data['A_valueDate_numeric'] = eval_data['A_valueDate'].dt.strftime('%Y%m%d').astype(float)\n",
    "\n",
    "data_type_val = df_for_logistic['A_valueDate_numeric'].dtypes\n",
    "print(data_type_val)"
   ]
  },
  {
   "cell_type": "code",
   "execution_count": 31,
   "id": "8d04a918",
   "metadata": {
    "execution": {
     "iopub.execute_input": "2023-12-07T04:26:53.221187Z",
     "iopub.status.busy": "2023-12-07T04:26:53.220755Z",
     "iopub.status.idle": "2023-12-07T04:26:53.390631Z",
     "shell.execute_reply": "2023-12-07T04:26:53.389308Z"
    },
    "papermill": {
     "duration": 0.187496,
     "end_time": "2023-12-07T04:26:53.392835",
     "exception": false,
     "start_time": "2023-12-07T04:26:53.205339",
     "status": "completed"
    },
    "tags": []
   },
   "outputs": [
    {
     "name": "stdout",
     "output_type": "stream",
     "text": [
      "float64\n"
     ]
    }
   ],
   "source": [
    "eval_data['B_valueDate'] = pd.to_datetime(eval_data['B_valueDate'], format='%Y-%m-%d', errors='coerce')\n",
    "\n",
    "# Extracting numerical representation from the date\n",
    "eval_data['B_valueDate_numeric'] = eval_data['B_valueDate'].dt.strftime('%Y%m%d').astype(float)\n",
    "\n",
    "data_type_val = df_for_logistic['B_valueDate_numeric'].dtypes\n",
    "print(data_type_val)"
   ]
  },
  {
   "cell_type": "code",
   "execution_count": 32,
   "id": "72fbc2b2",
   "metadata": {
    "execution": {
     "iopub.execute_input": "2023-12-07T04:26:53.422590Z",
     "iopub.status.busy": "2023-12-07T04:26:53.422167Z",
     "iopub.status.idle": "2023-12-07T04:26:53.446339Z",
     "shell.execute_reply": "2023-12-07T04:26:53.445073Z"
    },
    "papermill": {
     "duration": 0.041602,
     "end_time": "2023-12-07T04:26:53.448192",
     "exception": false,
     "start_time": "2023-12-07T04:26:53.406590",
     "status": "completed"
    },
    "tags": []
   },
   "outputs": [
    {
     "data": {
      "text/html": [
       "<div>\n",
       "<style scoped>\n",
       "    .dataframe tbody tr th:only-of-type {\n",
       "        vertical-align: middle;\n",
       "    }\n",
       "\n",
       "    .dataframe tbody tr th {\n",
       "        vertical-align: top;\n",
       "    }\n",
       "\n",
       "    .dataframe thead th {\n",
       "        text-align: right;\n",
       "    }\n",
       "</style>\n",
       "<table border=\"1\" class=\"dataframe\">\n",
       "  <thead>\n",
       "    <tr style=\"text-align: right;\">\n",
       "      <th></th>\n",
       "      <th>matchId</th>\n",
       "      <th>matchDate</th>\n",
       "      <th>matchRule</th>\n",
       "      <th>matchedBy</th>\n",
       "      <th>wasPreviouslyMismatched</th>\n",
       "      <th>A_transactionType</th>\n",
       "      <th>A_id</th>\n",
       "      <th>A_allocation</th>\n",
       "      <th>A_importDate</th>\n",
       "      <th>A_debitOrCredit</th>\n",
       "      <th>...</th>\n",
       "      <th>B_amount</th>\n",
       "      <th>B_valueDate</th>\n",
       "      <th>B_currencyCode</th>\n",
       "      <th>B_account</th>\n",
       "      <th>B_transactionReferences</th>\n",
       "      <th>B_transactionAttributes</th>\n",
       "      <th>targetAllocation</th>\n",
       "      <th>match</th>\n",
       "      <th>A_valueDate_numeric</th>\n",
       "      <th>B_valueDate_numeric</th>\n",
       "    </tr>\n",
       "  </thead>\n",
       "  <tbody>\n",
       "    <tr>\n",
       "      <th>0</th>\n",
       "      <td>NaN</td>\n",
       "      <td>NaN</td>\n",
       "      <td>NaN</td>\n",
       "      <td>NaN</td>\n",
       "      <td>0</td>\n",
       "      <td>A</td>\n",
       "      <td>8.471955e+10</td>\n",
       "      <td>USD_2023-05-11_ACC#00001_66912     01568015683...</td>\n",
       "      <td>2023-05-12</td>\n",
       "      <td>CR</td>\n",
       "      <td>...</td>\n",
       "      <td>NaN</td>\n",
       "      <td>NaT</td>\n",
       "      <td>NaN</td>\n",
       "      <td>NaN</td>\n",
       "      <td>NaN</td>\n",
       "      <td>NaN</td>\n",
       "      <td>NaN</td>\n",
       "      <td>False</td>\n",
       "      <td>20230511.0</td>\n",
       "      <td>NaN</td>\n",
       "    </tr>\n",
       "    <tr>\n",
       "      <th>1</th>\n",
       "      <td>NaN</td>\n",
       "      <td>NaN</td>\n",
       "      <td>NaN</td>\n",
       "      <td>NaN</td>\n",
       "      <td>0</td>\n",
       "      <td>A</td>\n",
       "      <td>4.349471e+11</td>\n",
       "      <td>USD_2023-04-28_ACC#00001_66912     06036060363...</td>\n",
       "      <td>2023-04-29</td>\n",
       "      <td>CR</td>\n",
       "      <td>...</td>\n",
       "      <td>NaN</td>\n",
       "      <td>NaT</td>\n",
       "      <td>NaN</td>\n",
       "      <td>NaN</td>\n",
       "      <td>NaN</td>\n",
       "      <td>NaN</td>\n",
       "      <td>NaN</td>\n",
       "      <td>False</td>\n",
       "      <td>20230428.0</td>\n",
       "      <td>NaN</td>\n",
       "    </tr>\n",
       "    <tr>\n",
       "      <th>2</th>\n",
       "      <td>NaN</td>\n",
       "      <td>NaN</td>\n",
       "      <td>NaN</td>\n",
       "      <td>NaN</td>\n",
       "      <td>0</td>\n",
       "      <td>A</td>\n",
       "      <td>1.861244e+10</td>\n",
       "      <td>USD_2023-04-27_ACC#00001_66912     01477014773...</td>\n",
       "      <td>2023-04-28</td>\n",
       "      <td>CR</td>\n",
       "      <td>...</td>\n",
       "      <td>NaN</td>\n",
       "      <td>NaT</td>\n",
       "      <td>NaN</td>\n",
       "      <td>NaN</td>\n",
       "      <td>NaN</td>\n",
       "      <td>NaN</td>\n",
       "      <td>NaN</td>\n",
       "      <td>True</td>\n",
       "      <td>20230427.0</td>\n",
       "      <td>NaN</td>\n",
       "    </tr>\n",
       "    <tr>\n",
       "      <th>3</th>\n",
       "      <td>NaN</td>\n",
       "      <td>NaN</td>\n",
       "      <td>NaN</td>\n",
       "      <td>NaN</td>\n",
       "      <td>0</td>\n",
       "      <td>A</td>\n",
       "      <td>2.069415e+11</td>\n",
       "      <td>USD_2023-05-28_ACC#00001_66912     6033960339 ...</td>\n",
       "      <td>2023-08-25</td>\n",
       "      <td>CR</td>\n",
       "      <td>...</td>\n",
       "      <td>NaN</td>\n",
       "      <td>NaT</td>\n",
       "      <td>NaN</td>\n",
       "      <td>NaN</td>\n",
       "      <td>NaN</td>\n",
       "      <td>NaN</td>\n",
       "      <td>NaN</td>\n",
       "      <td>False</td>\n",
       "      <td>20230528.0</td>\n",
       "      <td>NaN</td>\n",
       "    </tr>\n",
       "    <tr>\n",
       "      <th>4</th>\n",
       "      <td>NaN</td>\n",
       "      <td>NaN</td>\n",
       "      <td>NaN</td>\n",
       "      <td>NaN</td>\n",
       "      <td>0</td>\n",
       "      <td>NaN</td>\n",
       "      <td>NaN</td>\n",
       "      <td>NaN</td>\n",
       "      <td>NaN</td>\n",
       "      <td>NaN</td>\n",
       "      <td>...</td>\n",
       "      <td>-50200000.0</td>\n",
       "      <td>2023-05-18</td>\n",
       "      <td>USD</td>\n",
       "      <td>ACC#00001</td>\n",
       "      <td>VOLERY 4623507666FP</td>\n",
       "      <td>TUP 57NA003053834T6REAVOWED/WAMP/Y</td>\n",
       "      <td>NaN</td>\n",
       "      <td>True</td>\n",
       "      <td>NaN</td>\n",
       "      <td>20230518.0</td>\n",
       "    </tr>\n",
       "  </tbody>\n",
       "</table>\n",
       "<p>5 rows × 30 columns</p>\n",
       "</div>"
      ],
      "text/plain": [
       "   matchId  matchDate  matchRule  matchedBy  wasPreviouslyMismatched  \\\n",
       "0      NaN        NaN        NaN        NaN                        0   \n",
       "1      NaN        NaN        NaN        NaN                        0   \n",
       "2      NaN        NaN        NaN        NaN                        0   \n",
       "3      NaN        NaN        NaN        NaN                        0   \n",
       "4      NaN        NaN        NaN        NaN                        0   \n",
       "\n",
       "  A_transactionType          A_id  \\\n",
       "0                 A  8.471955e+10   \n",
       "1                 A  4.349471e+11   \n",
       "2                 A  1.861244e+10   \n",
       "3                 A  2.069415e+11   \n",
       "4               NaN           NaN   \n",
       "\n",
       "                                        A_allocation A_importDate  \\\n",
       "0  USD_2023-05-11_ACC#00001_66912     01568015683...   2023-05-12   \n",
       "1  USD_2023-04-28_ACC#00001_66912     06036060363...   2023-04-29   \n",
       "2  USD_2023-04-27_ACC#00001_66912     01477014773...   2023-04-28   \n",
       "3  USD_2023-05-28_ACC#00001_66912     6033960339 ...   2023-08-25   \n",
       "4                                                NaN          NaN   \n",
       "\n",
       "  A_debitOrCredit  ...    B_amount B_valueDate B_currencyCode  B_account  \\\n",
       "0              CR  ...         NaN         NaT            NaN        NaN   \n",
       "1              CR  ...         NaN         NaT            NaN        NaN   \n",
       "2              CR  ...         NaN         NaT            NaN        NaN   \n",
       "3              CR  ...         NaN         NaT            NaN        NaN   \n",
       "4             NaN  ... -50200000.0  2023-05-18            USD  ACC#00001   \n",
       "\n",
       "  B_transactionReferences             B_transactionAttributes  \\\n",
       "0                     NaN                                 NaN   \n",
       "1                     NaN                                 NaN   \n",
       "2                     NaN                                 NaN   \n",
       "3                     NaN                                 NaN   \n",
       "4     VOLERY 4623507666FP  TUP 57NA003053834T6REAVOWED/WAMP/Y   \n",
       "\n",
       "  targetAllocation  match A_valueDate_numeric B_valueDate_numeric  \n",
       "0              NaN  False          20230511.0                 NaN  \n",
       "1              NaN  False          20230428.0                 NaN  \n",
       "2              NaN   True          20230427.0                 NaN  \n",
       "3              NaN  False          20230528.0                 NaN  \n",
       "4              NaN   True                 NaN          20230518.0  \n",
       "\n",
       "[5 rows x 30 columns]"
      ]
     },
     "execution_count": 32,
     "metadata": {},
     "output_type": "execute_result"
    }
   ],
   "source": [
    "eval_data.head()"
   ]
  },
  {
   "cell_type": "code",
   "execution_count": 33,
   "id": "6879d84f",
   "metadata": {
    "execution": {
     "iopub.execute_input": "2023-12-07T04:26:53.479408Z",
     "iopub.status.busy": "2023-12-07T04:26:53.478744Z",
     "iopub.status.idle": "2023-12-07T04:26:53.540204Z",
     "shell.execute_reply": "2023-12-07T04:26:53.539171Z"
    },
    "papermill": {
     "duration": 0.079146,
     "end_time": "2023-12-07T04:26:53.542333",
     "exception": false,
     "start_time": "2023-12-07T04:26:53.463187",
     "status": "completed"
    },
    "tags": []
   },
   "outputs": [
    {
     "data": {
      "text/html": [
       "<div>\n",
       "<style scoped>\n",
       "    .dataframe tbody tr th:only-of-type {\n",
       "        vertical-align: middle;\n",
       "    }\n",
       "\n",
       "    .dataframe tbody tr th {\n",
       "        vertical-align: top;\n",
       "    }\n",
       "\n",
       "    .dataframe thead th {\n",
       "        text-align: right;\n",
       "    }\n",
       "</style>\n",
       "<table border=\"1\" class=\"dataframe\">\n",
       "  <thead>\n",
       "    <tr style=\"text-align: right;\">\n",
       "      <th></th>\n",
       "      <th>matchId</th>\n",
       "      <th>matchDate</th>\n",
       "      <th>matchRule</th>\n",
       "      <th>matchedBy</th>\n",
       "      <th>wasPreviouslyMismatched</th>\n",
       "      <th>A_transactionType</th>\n",
       "      <th>A_id</th>\n",
       "      <th>A_allocation</th>\n",
       "      <th>A_importDate</th>\n",
       "      <th>A_amount</th>\n",
       "      <th>...</th>\n",
       "      <th>B_currencyCode</th>\n",
       "      <th>B_account</th>\n",
       "      <th>B_transactionReferences</th>\n",
       "      <th>B_transactionAttributes</th>\n",
       "      <th>targetAllocation</th>\n",
       "      <th>match</th>\n",
       "      <th>A_valueDate_numeric</th>\n",
       "      <th>B_valueDate_numeric</th>\n",
       "      <th>A_debitOrCredit_CR</th>\n",
       "      <th>A_debitOrCredit_DR</th>\n",
       "    </tr>\n",
       "  </thead>\n",
       "  <tbody>\n",
       "    <tr>\n",
       "      <th>0</th>\n",
       "      <td>NaN</td>\n",
       "      <td>NaN</td>\n",
       "      <td>NaN</td>\n",
       "      <td>NaN</td>\n",
       "      <td>0</td>\n",
       "      <td>A</td>\n",
       "      <td>8.471955e+10</td>\n",
       "      <td>USD_2023-05-11_ACC#00001_66912     01568015683...</td>\n",
       "      <td>2023-05-12</td>\n",
       "      <td>55557493.91</td>\n",
       "      <td>...</td>\n",
       "      <td>NaN</td>\n",
       "      <td>NaN</td>\n",
       "      <td>NaN</td>\n",
       "      <td>NaN</td>\n",
       "      <td>NaN</td>\n",
       "      <td>False</td>\n",
       "      <td>20230511.0</td>\n",
       "      <td>NaN</td>\n",
       "      <td>1</td>\n",
       "      <td>0</td>\n",
       "    </tr>\n",
       "    <tr>\n",
       "      <th>1</th>\n",
       "      <td>NaN</td>\n",
       "      <td>NaN</td>\n",
       "      <td>NaN</td>\n",
       "      <td>NaN</td>\n",
       "      <td>0</td>\n",
       "      <td>A</td>\n",
       "      <td>4.349471e+11</td>\n",
       "      <td>USD_2023-04-28_ACC#00001_66912     06036060363...</td>\n",
       "      <td>2023-04-29</td>\n",
       "      <td>5717970.00</td>\n",
       "      <td>...</td>\n",
       "      <td>NaN</td>\n",
       "      <td>NaN</td>\n",
       "      <td>NaN</td>\n",
       "      <td>NaN</td>\n",
       "      <td>NaN</td>\n",
       "      <td>False</td>\n",
       "      <td>20230428.0</td>\n",
       "      <td>NaN</td>\n",
       "      <td>1</td>\n",
       "      <td>0</td>\n",
       "    </tr>\n",
       "    <tr>\n",
       "      <th>2</th>\n",
       "      <td>NaN</td>\n",
       "      <td>NaN</td>\n",
       "      <td>NaN</td>\n",
       "      <td>NaN</td>\n",
       "      <td>0</td>\n",
       "      <td>A</td>\n",
       "      <td>1.861244e+10</td>\n",
       "      <td>USD_2023-04-27_ACC#00001_66912     01477014773...</td>\n",
       "      <td>2023-04-28</td>\n",
       "      <td>41842600.00</td>\n",
       "      <td>...</td>\n",
       "      <td>NaN</td>\n",
       "      <td>NaN</td>\n",
       "      <td>NaN</td>\n",
       "      <td>NaN</td>\n",
       "      <td>NaN</td>\n",
       "      <td>True</td>\n",
       "      <td>20230427.0</td>\n",
       "      <td>NaN</td>\n",
       "      <td>1</td>\n",
       "      <td>0</td>\n",
       "    </tr>\n",
       "    <tr>\n",
       "      <th>3</th>\n",
       "      <td>NaN</td>\n",
       "      <td>NaN</td>\n",
       "      <td>NaN</td>\n",
       "      <td>NaN</td>\n",
       "      <td>0</td>\n",
       "      <td>A</td>\n",
       "      <td>2.069415e+11</td>\n",
       "      <td>USD_2023-05-28_ACC#00001_66912     6033960339 ...</td>\n",
       "      <td>2023-08-25</td>\n",
       "      <td>965500.00</td>\n",
       "      <td>...</td>\n",
       "      <td>NaN</td>\n",
       "      <td>NaN</td>\n",
       "      <td>NaN</td>\n",
       "      <td>NaN</td>\n",
       "      <td>NaN</td>\n",
       "      <td>False</td>\n",
       "      <td>20230528.0</td>\n",
       "      <td>NaN</td>\n",
       "      <td>1</td>\n",
       "      <td>0</td>\n",
       "    </tr>\n",
       "    <tr>\n",
       "      <th>4</th>\n",
       "      <td>NaN</td>\n",
       "      <td>NaN</td>\n",
       "      <td>NaN</td>\n",
       "      <td>NaN</td>\n",
       "      <td>0</td>\n",
       "      <td>NaN</td>\n",
       "      <td>NaN</td>\n",
       "      <td>NaN</td>\n",
       "      <td>NaN</td>\n",
       "      <td>NaN</td>\n",
       "      <td>...</td>\n",
       "      <td>USD</td>\n",
       "      <td>ACC#00001</td>\n",
       "      <td>VOLERY 4623507666FP</td>\n",
       "      <td>TUP 57NA003053834T6REAVOWED/WAMP/Y</td>\n",
       "      <td>NaN</td>\n",
       "      <td>True</td>\n",
       "      <td>NaN</td>\n",
       "      <td>20230518.0</td>\n",
       "      <td>0</td>\n",
       "      <td>0</td>\n",
       "    </tr>\n",
       "  </tbody>\n",
       "</table>\n",
       "<p>5 rows × 31 columns</p>\n",
       "</div>"
      ],
      "text/plain": [
       "   matchId  matchDate  matchRule  matchedBy  wasPreviouslyMismatched  \\\n",
       "0      NaN        NaN        NaN        NaN                        0   \n",
       "1      NaN        NaN        NaN        NaN                        0   \n",
       "2      NaN        NaN        NaN        NaN                        0   \n",
       "3      NaN        NaN        NaN        NaN                        0   \n",
       "4      NaN        NaN        NaN        NaN                        0   \n",
       "\n",
       "  A_transactionType          A_id  \\\n",
       "0                 A  8.471955e+10   \n",
       "1                 A  4.349471e+11   \n",
       "2                 A  1.861244e+10   \n",
       "3                 A  2.069415e+11   \n",
       "4               NaN           NaN   \n",
       "\n",
       "                                        A_allocation A_importDate  \\\n",
       "0  USD_2023-05-11_ACC#00001_66912     01568015683...   2023-05-12   \n",
       "1  USD_2023-04-28_ACC#00001_66912     06036060363...   2023-04-29   \n",
       "2  USD_2023-04-27_ACC#00001_66912     01477014773...   2023-04-28   \n",
       "3  USD_2023-05-28_ACC#00001_66912     6033960339 ...   2023-08-25   \n",
       "4                                                NaN          NaN   \n",
       "\n",
       "      A_amount  ... B_currencyCode  B_account B_transactionReferences  \\\n",
       "0  55557493.91  ...            NaN        NaN                     NaN   \n",
       "1   5717970.00  ...            NaN        NaN                     NaN   \n",
       "2  41842600.00  ...            NaN        NaN                     NaN   \n",
       "3    965500.00  ...            NaN        NaN                     NaN   \n",
       "4          NaN  ...            USD  ACC#00001     VOLERY 4623507666FP   \n",
       "\n",
       "              B_transactionAttributes targetAllocation  match  \\\n",
       "0                                 NaN              NaN  False   \n",
       "1                                 NaN              NaN  False   \n",
       "2                                 NaN              NaN   True   \n",
       "3                                 NaN              NaN  False   \n",
       "4  TUP 57NA003053834T6REAVOWED/WAMP/Y              NaN   True   \n",
       "\n",
       "   A_valueDate_numeric B_valueDate_numeric A_debitOrCredit_CR  \\\n",
       "0           20230511.0                 NaN                  1   \n",
       "1           20230428.0                 NaN                  1   \n",
       "2           20230427.0                 NaN                  1   \n",
       "3           20230528.0                 NaN                  1   \n",
       "4                  NaN          20230518.0                  0   \n",
       "\n",
       "   A_debitOrCredit_DR  \n",
       "0                   0  \n",
       "1                   0  \n",
       "2                   0  \n",
       "3                   0  \n",
       "4                   0  \n",
       "\n",
       "[5 rows x 31 columns]"
      ]
     },
     "execution_count": 33,
     "metadata": {},
     "output_type": "execute_result"
    }
   ],
   "source": [
    "eval_data = pd.get_dummies(eval_data, columns=['A_debitOrCredit'], prefix='A_debitOrCredit')\n",
    "\n",
    "# Convert True/False to 1/0 for the one-hot encoded columns\n",
    "eval_data['A_debitOrCredit_CR'] = eval_data['A_debitOrCredit_CR'].astype(int)\n",
    "eval_data['A_debitOrCredit_DR'] = eval_data['A_debitOrCredit_DR'].astype(int)\n",
    "# Display the DataFrame with the new one-hot encoded columns\n",
    "eval_data.head()"
   ]
  },
  {
   "cell_type": "code",
   "execution_count": 34,
   "id": "d2378aff",
   "metadata": {
    "execution": {
     "iopub.execute_input": "2023-12-07T04:26:53.573527Z",
     "iopub.status.busy": "2023-12-07T04:26:53.573142Z",
     "iopub.status.idle": "2023-12-07T04:26:53.634575Z",
     "shell.execute_reply": "2023-12-07T04:26:53.633194Z"
    },
    "papermill": {
     "duration": 0.079175,
     "end_time": "2023-12-07T04:26:53.636616",
     "exception": false,
     "start_time": "2023-12-07T04:26:53.557441",
     "status": "completed"
    },
    "tags": []
   },
   "outputs": [
    {
     "data": {
      "text/html": [
       "<div>\n",
       "<style scoped>\n",
       "    .dataframe tbody tr th:only-of-type {\n",
       "        vertical-align: middle;\n",
       "    }\n",
       "\n",
       "    .dataframe tbody tr th {\n",
       "        vertical-align: top;\n",
       "    }\n",
       "\n",
       "    .dataframe thead th {\n",
       "        text-align: right;\n",
       "    }\n",
       "</style>\n",
       "<table border=\"1\" class=\"dataframe\">\n",
       "  <thead>\n",
       "    <tr style=\"text-align: right;\">\n",
       "      <th></th>\n",
       "      <th>matchId</th>\n",
       "      <th>matchDate</th>\n",
       "      <th>matchRule</th>\n",
       "      <th>matchedBy</th>\n",
       "      <th>wasPreviouslyMismatched</th>\n",
       "      <th>A_transactionType</th>\n",
       "      <th>A_id</th>\n",
       "      <th>A_allocation</th>\n",
       "      <th>A_importDate</th>\n",
       "      <th>A_amount</th>\n",
       "      <th>...</th>\n",
       "      <th>B_transactionReferences</th>\n",
       "      <th>B_transactionAttributes</th>\n",
       "      <th>targetAllocation</th>\n",
       "      <th>match</th>\n",
       "      <th>A_valueDate_numeric</th>\n",
       "      <th>B_valueDate_numeric</th>\n",
       "      <th>A_debitOrCredit_CR</th>\n",
       "      <th>A_debitOrCredit_DR</th>\n",
       "      <th>B_debitOrCredit_CR</th>\n",
       "      <th>B_debitOrCredit_DR</th>\n",
       "    </tr>\n",
       "  </thead>\n",
       "  <tbody>\n",
       "    <tr>\n",
       "      <th>0</th>\n",
       "      <td>NaN</td>\n",
       "      <td>NaN</td>\n",
       "      <td>NaN</td>\n",
       "      <td>NaN</td>\n",
       "      <td>0</td>\n",
       "      <td>A</td>\n",
       "      <td>8.471955e+10</td>\n",
       "      <td>USD_2023-05-11_ACC#00001_66912     01568015683...</td>\n",
       "      <td>2023-05-12</td>\n",
       "      <td>55557493.91</td>\n",
       "      <td>...</td>\n",
       "      <td>NaN</td>\n",
       "      <td>NaN</td>\n",
       "      <td>NaN</td>\n",
       "      <td>False</td>\n",
       "      <td>20230511.0</td>\n",
       "      <td>NaN</td>\n",
       "      <td>1</td>\n",
       "      <td>0</td>\n",
       "      <td>0</td>\n",
       "      <td>0</td>\n",
       "    </tr>\n",
       "    <tr>\n",
       "      <th>1</th>\n",
       "      <td>NaN</td>\n",
       "      <td>NaN</td>\n",
       "      <td>NaN</td>\n",
       "      <td>NaN</td>\n",
       "      <td>0</td>\n",
       "      <td>A</td>\n",
       "      <td>4.349471e+11</td>\n",
       "      <td>USD_2023-04-28_ACC#00001_66912     06036060363...</td>\n",
       "      <td>2023-04-29</td>\n",
       "      <td>5717970.00</td>\n",
       "      <td>...</td>\n",
       "      <td>NaN</td>\n",
       "      <td>NaN</td>\n",
       "      <td>NaN</td>\n",
       "      <td>False</td>\n",
       "      <td>20230428.0</td>\n",
       "      <td>NaN</td>\n",
       "      <td>1</td>\n",
       "      <td>0</td>\n",
       "      <td>0</td>\n",
       "      <td>0</td>\n",
       "    </tr>\n",
       "    <tr>\n",
       "      <th>2</th>\n",
       "      <td>NaN</td>\n",
       "      <td>NaN</td>\n",
       "      <td>NaN</td>\n",
       "      <td>NaN</td>\n",
       "      <td>0</td>\n",
       "      <td>A</td>\n",
       "      <td>1.861244e+10</td>\n",
       "      <td>USD_2023-04-27_ACC#00001_66912     01477014773...</td>\n",
       "      <td>2023-04-28</td>\n",
       "      <td>41842600.00</td>\n",
       "      <td>...</td>\n",
       "      <td>NaN</td>\n",
       "      <td>NaN</td>\n",
       "      <td>NaN</td>\n",
       "      <td>True</td>\n",
       "      <td>20230427.0</td>\n",
       "      <td>NaN</td>\n",
       "      <td>1</td>\n",
       "      <td>0</td>\n",
       "      <td>0</td>\n",
       "      <td>0</td>\n",
       "    </tr>\n",
       "    <tr>\n",
       "      <th>3</th>\n",
       "      <td>NaN</td>\n",
       "      <td>NaN</td>\n",
       "      <td>NaN</td>\n",
       "      <td>NaN</td>\n",
       "      <td>0</td>\n",
       "      <td>A</td>\n",
       "      <td>2.069415e+11</td>\n",
       "      <td>USD_2023-05-28_ACC#00001_66912     6033960339 ...</td>\n",
       "      <td>2023-08-25</td>\n",
       "      <td>965500.00</td>\n",
       "      <td>...</td>\n",
       "      <td>NaN</td>\n",
       "      <td>NaN</td>\n",
       "      <td>NaN</td>\n",
       "      <td>False</td>\n",
       "      <td>20230528.0</td>\n",
       "      <td>NaN</td>\n",
       "      <td>1</td>\n",
       "      <td>0</td>\n",
       "      <td>0</td>\n",
       "      <td>0</td>\n",
       "    </tr>\n",
       "    <tr>\n",
       "      <th>4</th>\n",
       "      <td>NaN</td>\n",
       "      <td>NaN</td>\n",
       "      <td>NaN</td>\n",
       "      <td>NaN</td>\n",
       "      <td>0</td>\n",
       "      <td>NaN</td>\n",
       "      <td>NaN</td>\n",
       "      <td>NaN</td>\n",
       "      <td>NaN</td>\n",
       "      <td>NaN</td>\n",
       "      <td>...</td>\n",
       "      <td>VOLERY 4623507666FP</td>\n",
       "      <td>TUP 57NA003053834T6REAVOWED/WAMP/Y</td>\n",
       "      <td>NaN</td>\n",
       "      <td>True</td>\n",
       "      <td>NaN</td>\n",
       "      <td>20230518.0</td>\n",
       "      <td>0</td>\n",
       "      <td>0</td>\n",
       "      <td>1</td>\n",
       "      <td>0</td>\n",
       "    </tr>\n",
       "  </tbody>\n",
       "</table>\n",
       "<p>5 rows × 32 columns</p>\n",
       "</div>"
      ],
      "text/plain": [
       "   matchId  matchDate  matchRule  matchedBy  wasPreviouslyMismatched  \\\n",
       "0      NaN        NaN        NaN        NaN                        0   \n",
       "1      NaN        NaN        NaN        NaN                        0   \n",
       "2      NaN        NaN        NaN        NaN                        0   \n",
       "3      NaN        NaN        NaN        NaN                        0   \n",
       "4      NaN        NaN        NaN        NaN                        0   \n",
       "\n",
       "  A_transactionType          A_id  \\\n",
       "0                 A  8.471955e+10   \n",
       "1                 A  4.349471e+11   \n",
       "2                 A  1.861244e+10   \n",
       "3                 A  2.069415e+11   \n",
       "4               NaN           NaN   \n",
       "\n",
       "                                        A_allocation A_importDate  \\\n",
       "0  USD_2023-05-11_ACC#00001_66912     01568015683...   2023-05-12   \n",
       "1  USD_2023-04-28_ACC#00001_66912     06036060363...   2023-04-29   \n",
       "2  USD_2023-04-27_ACC#00001_66912     01477014773...   2023-04-28   \n",
       "3  USD_2023-05-28_ACC#00001_66912     6033960339 ...   2023-08-25   \n",
       "4                                                NaN          NaN   \n",
       "\n",
       "      A_amount  ... B_transactionReferences  \\\n",
       "0  55557493.91  ...                     NaN   \n",
       "1   5717970.00  ...                     NaN   \n",
       "2  41842600.00  ...                     NaN   \n",
       "3    965500.00  ...                     NaN   \n",
       "4          NaN  ...     VOLERY 4623507666FP   \n",
       "\n",
       "              B_transactionAttributes targetAllocation  match  \\\n",
       "0                                 NaN              NaN  False   \n",
       "1                                 NaN              NaN  False   \n",
       "2                                 NaN              NaN   True   \n",
       "3                                 NaN              NaN  False   \n",
       "4  TUP 57NA003053834T6REAVOWED/WAMP/Y              NaN   True   \n",
       "\n",
       "  A_valueDate_numeric B_valueDate_numeric  A_debitOrCredit_CR  \\\n",
       "0          20230511.0                 NaN                   1   \n",
       "1          20230428.0                 NaN                   1   \n",
       "2          20230427.0                 NaN                   1   \n",
       "3          20230528.0                 NaN                   1   \n",
       "4                 NaN          20230518.0                   0   \n",
       "\n",
       "  A_debitOrCredit_DR  B_debitOrCredit_CR B_debitOrCredit_DR  \n",
       "0                  0                   0                  0  \n",
       "1                  0                   0                  0  \n",
       "2                  0                   0                  0  \n",
       "3                  0                   0                  0  \n",
       "4                  0                   1                  0  \n",
       "\n",
       "[5 rows x 32 columns]"
      ]
     },
     "execution_count": 34,
     "metadata": {},
     "output_type": "execute_result"
    }
   ],
   "source": [
    "eval_data = pd.get_dummies(eval_data, columns=['B_debitOrCredit'], prefix='B_debitOrCredit')\n",
    "\n",
    "# Convert True/False to 1/0 for the one-hot encoded columns\n",
    "eval_data['B_debitOrCredit_CR'] = eval_data['B_debitOrCredit_CR'].astype(int)\n",
    "eval_data['B_debitOrCredit_DR'] = eval_data['B_debitOrCredit_DR'].astype(int)\n",
    "\n",
    "eval_data.head()"
   ]
  },
  {
   "cell_type": "code",
   "execution_count": 35,
   "id": "afe8f9a3",
   "metadata": {
    "execution": {
     "iopub.execute_input": "2023-12-07T04:26:53.666123Z",
     "iopub.status.busy": "2023-12-07T04:26:53.665716Z",
     "iopub.status.idle": "2023-12-07T04:26:53.773238Z",
     "shell.execute_reply": "2023-12-07T04:26:53.771461Z"
    },
    "papermill": {
     "duration": 0.124696,
     "end_time": "2023-12-07T04:26:53.775693",
     "exception": false,
     "start_time": "2023-12-07T04:26:53.650997",
     "status": "completed"
    },
    "tags": []
   },
   "outputs": [],
   "source": [
    "#Lets creat a feature where it tells if there's a match then its 1 and if there's no match then its a 0 in our training data we will always have a match\n",
    "eval_data['match'] = (eval_data['targetAllocation'].notnull()) | (df['A_allocation'].notnull())"
   ]
  },
  {
   "cell_type": "code",
   "execution_count": 36,
   "id": "b3205456",
   "metadata": {
    "execution": {
     "iopub.execute_input": "2023-12-07T04:26:53.806432Z",
     "iopub.status.busy": "2023-12-07T04:26:53.806039Z",
     "iopub.status.idle": "2023-12-07T04:26:53.830157Z",
     "shell.execute_reply": "2023-12-07T04:26:53.828561Z"
    },
    "papermill": {
     "duration": 0.04285,
     "end_time": "2023-12-07T04:26:53.833219",
     "exception": false,
     "start_time": "2023-12-07T04:26:53.790369",
     "status": "completed"
    },
    "tags": []
   },
   "outputs": [
    {
     "data": {
      "text/html": [
       "<div>\n",
       "<style scoped>\n",
       "    .dataframe tbody tr th:only-of-type {\n",
       "        vertical-align: middle;\n",
       "    }\n",
       "\n",
       "    .dataframe tbody tr th {\n",
       "        vertical-align: top;\n",
       "    }\n",
       "\n",
       "    .dataframe thead th {\n",
       "        text-align: right;\n",
       "    }\n",
       "</style>\n",
       "<table border=\"1\" class=\"dataframe\">\n",
       "  <thead>\n",
       "    <tr style=\"text-align: right;\">\n",
       "      <th></th>\n",
       "      <th>matchId</th>\n",
       "      <th>matchDate</th>\n",
       "      <th>matchRule</th>\n",
       "      <th>matchedBy</th>\n",
       "      <th>wasPreviouslyMismatched</th>\n",
       "      <th>A_transactionType</th>\n",
       "      <th>A_id</th>\n",
       "      <th>A_allocation</th>\n",
       "      <th>A_importDate</th>\n",
       "      <th>A_amount</th>\n",
       "      <th>...</th>\n",
       "      <th>B_transactionReferences</th>\n",
       "      <th>B_transactionAttributes</th>\n",
       "      <th>targetAllocation</th>\n",
       "      <th>match</th>\n",
       "      <th>A_valueDate_numeric</th>\n",
       "      <th>B_valueDate_numeric</th>\n",
       "      <th>A_debitOrCredit_CR</th>\n",
       "      <th>A_debitOrCredit_DR</th>\n",
       "      <th>B_debitOrCredit_CR</th>\n",
       "      <th>B_debitOrCredit_DR</th>\n",
       "    </tr>\n",
       "  </thead>\n",
       "  <tbody>\n",
       "    <tr>\n",
       "      <th>0</th>\n",
       "      <td>NaN</td>\n",
       "      <td>NaN</td>\n",
       "      <td>NaN</td>\n",
       "      <td>NaN</td>\n",
       "      <td>0</td>\n",
       "      <td>A</td>\n",
       "      <td>8.471955e+10</td>\n",
       "      <td>USD_2023-05-11_ACC#00001_66912     01568015683...</td>\n",
       "      <td>2023-05-12</td>\n",
       "      <td>55557493.91</td>\n",
       "      <td>...</td>\n",
       "      <td>NaN</td>\n",
       "      <td>NaN</td>\n",
       "      <td>NaN</td>\n",
       "      <td>False</td>\n",
       "      <td>20230511.0</td>\n",
       "      <td>NaN</td>\n",
       "      <td>1</td>\n",
       "      <td>0</td>\n",
       "      <td>0</td>\n",
       "      <td>0</td>\n",
       "    </tr>\n",
       "    <tr>\n",
       "      <th>1</th>\n",
       "      <td>NaN</td>\n",
       "      <td>NaN</td>\n",
       "      <td>NaN</td>\n",
       "      <td>NaN</td>\n",
       "      <td>0</td>\n",
       "      <td>A</td>\n",
       "      <td>4.349471e+11</td>\n",
       "      <td>USD_2023-04-28_ACC#00001_66912     06036060363...</td>\n",
       "      <td>2023-04-29</td>\n",
       "      <td>5717970.00</td>\n",
       "      <td>...</td>\n",
       "      <td>NaN</td>\n",
       "      <td>NaN</td>\n",
       "      <td>NaN</td>\n",
       "      <td>False</td>\n",
       "      <td>20230428.0</td>\n",
       "      <td>NaN</td>\n",
       "      <td>1</td>\n",
       "      <td>0</td>\n",
       "      <td>0</td>\n",
       "      <td>0</td>\n",
       "    </tr>\n",
       "    <tr>\n",
       "      <th>2</th>\n",
       "      <td>NaN</td>\n",
       "      <td>NaN</td>\n",
       "      <td>NaN</td>\n",
       "      <td>NaN</td>\n",
       "      <td>0</td>\n",
       "      <td>A</td>\n",
       "      <td>1.861244e+10</td>\n",
       "      <td>USD_2023-04-27_ACC#00001_66912     01477014773...</td>\n",
       "      <td>2023-04-28</td>\n",
       "      <td>41842600.00</td>\n",
       "      <td>...</td>\n",
       "      <td>NaN</td>\n",
       "      <td>NaN</td>\n",
       "      <td>NaN</td>\n",
       "      <td>True</td>\n",
       "      <td>20230427.0</td>\n",
       "      <td>NaN</td>\n",
       "      <td>1</td>\n",
       "      <td>0</td>\n",
       "      <td>0</td>\n",
       "      <td>0</td>\n",
       "    </tr>\n",
       "    <tr>\n",
       "      <th>3</th>\n",
       "      <td>NaN</td>\n",
       "      <td>NaN</td>\n",
       "      <td>NaN</td>\n",
       "      <td>NaN</td>\n",
       "      <td>0</td>\n",
       "      <td>A</td>\n",
       "      <td>2.069415e+11</td>\n",
       "      <td>USD_2023-05-28_ACC#00001_66912     6033960339 ...</td>\n",
       "      <td>2023-08-25</td>\n",
       "      <td>965500.00</td>\n",
       "      <td>...</td>\n",
       "      <td>NaN</td>\n",
       "      <td>NaN</td>\n",
       "      <td>NaN</td>\n",
       "      <td>False</td>\n",
       "      <td>20230528.0</td>\n",
       "      <td>NaN</td>\n",
       "      <td>1</td>\n",
       "      <td>0</td>\n",
       "      <td>0</td>\n",
       "      <td>0</td>\n",
       "    </tr>\n",
       "    <tr>\n",
       "      <th>4</th>\n",
       "      <td>NaN</td>\n",
       "      <td>NaN</td>\n",
       "      <td>NaN</td>\n",
       "      <td>NaN</td>\n",
       "      <td>0</td>\n",
       "      <td>NaN</td>\n",
       "      <td>NaN</td>\n",
       "      <td>NaN</td>\n",
       "      <td>NaN</td>\n",
       "      <td>NaN</td>\n",
       "      <td>...</td>\n",
       "      <td>VOLERY 4623507666FP</td>\n",
       "      <td>TUP 57NA003053834T6REAVOWED/WAMP/Y</td>\n",
       "      <td>NaN</td>\n",
       "      <td>True</td>\n",
       "      <td>NaN</td>\n",
       "      <td>20230518.0</td>\n",
       "      <td>0</td>\n",
       "      <td>0</td>\n",
       "      <td>1</td>\n",
       "      <td>0</td>\n",
       "    </tr>\n",
       "  </tbody>\n",
       "</table>\n",
       "<p>5 rows × 32 columns</p>\n",
       "</div>"
      ],
      "text/plain": [
       "   matchId  matchDate  matchRule  matchedBy  wasPreviouslyMismatched  \\\n",
       "0      NaN        NaN        NaN        NaN                        0   \n",
       "1      NaN        NaN        NaN        NaN                        0   \n",
       "2      NaN        NaN        NaN        NaN                        0   \n",
       "3      NaN        NaN        NaN        NaN                        0   \n",
       "4      NaN        NaN        NaN        NaN                        0   \n",
       "\n",
       "  A_transactionType          A_id  \\\n",
       "0                 A  8.471955e+10   \n",
       "1                 A  4.349471e+11   \n",
       "2                 A  1.861244e+10   \n",
       "3                 A  2.069415e+11   \n",
       "4               NaN           NaN   \n",
       "\n",
       "                                        A_allocation A_importDate  \\\n",
       "0  USD_2023-05-11_ACC#00001_66912     01568015683...   2023-05-12   \n",
       "1  USD_2023-04-28_ACC#00001_66912     06036060363...   2023-04-29   \n",
       "2  USD_2023-04-27_ACC#00001_66912     01477014773...   2023-04-28   \n",
       "3  USD_2023-05-28_ACC#00001_66912     6033960339 ...   2023-08-25   \n",
       "4                                                NaN          NaN   \n",
       "\n",
       "      A_amount  ... B_transactionReferences  \\\n",
       "0  55557493.91  ...                     NaN   \n",
       "1   5717970.00  ...                     NaN   \n",
       "2  41842600.00  ...                     NaN   \n",
       "3    965500.00  ...                     NaN   \n",
       "4          NaN  ...     VOLERY 4623507666FP   \n",
       "\n",
       "              B_transactionAttributes targetAllocation  match  \\\n",
       "0                                 NaN              NaN  False   \n",
       "1                                 NaN              NaN  False   \n",
       "2                                 NaN              NaN   True   \n",
       "3                                 NaN              NaN  False   \n",
       "4  TUP 57NA003053834T6REAVOWED/WAMP/Y              NaN   True   \n",
       "\n",
       "  A_valueDate_numeric B_valueDate_numeric  A_debitOrCredit_CR  \\\n",
       "0          20230511.0                 NaN                   1   \n",
       "1          20230428.0                 NaN                   1   \n",
       "2          20230427.0                 NaN                   1   \n",
       "3          20230528.0                 NaN                   1   \n",
       "4                 NaN          20230518.0                   0   \n",
       "\n",
       "  A_debitOrCredit_DR  B_debitOrCredit_CR B_debitOrCredit_DR  \n",
       "0                  0                   0                  0  \n",
       "1                  0                   0                  0  \n",
       "2                  0                   0                  0  \n",
       "3                  0                   0                  0  \n",
       "4                  0                   1                  0  \n",
       "\n",
       "[5 rows x 32 columns]"
      ]
     },
     "execution_count": 36,
     "metadata": {},
     "output_type": "execute_result"
    }
   ],
   "source": [
    "eval_data.head()"
   ]
  },
  {
   "cell_type": "code",
   "execution_count": 37,
   "id": "c2c65fd6",
   "metadata": {
    "execution": {
     "iopub.execute_input": "2023-12-07T04:26:53.867783Z",
     "iopub.status.busy": "2023-12-07T04:26:53.867367Z",
     "iopub.status.idle": "2023-12-07T04:26:55.166918Z",
     "shell.execute_reply": "2023-12-07T04:26:55.165576Z"
    },
    "papermill": {
     "duration": 1.31938,
     "end_time": "2023-12-07T04:26:55.169003",
     "exception": false,
     "start_time": "2023-12-07T04:26:53.849623",
     "status": "completed"
    },
    "tags": []
   },
   "outputs": [
    {
     "name": "stdout",
     "output_type": "stream",
     "text": [
      "Accuracy on evaluation data: 0.5434\n",
      "Log Loss on evaluation data: 15.1295\n"
     ]
    }
   ],
   "source": [
    "# Fill missing values with 0 or another appropriate strategy\n",
    "eval_data = eval_data.fillna(0)  # You can use other imputation strategies like mean, median, etc.\n",
    "\n",
    "# Extract features from eval_data\n",
    "X_eval = eval_data[feature_list]\n",
    "\n",
    "# Make predictions on the evaluation data\n",
    "rf_predictions_eval = rf_model.predict(X_eval)\n",
    "rf_prob_predictions_eval = rf_model.predict_proba(X_eval)\n",
    "\n",
    "y_eval = eval_data['match']\n",
    "\n",
    "# Calculate and print accuracy\n",
    "accuracy_eval = accuracy_score(y_eval, rf_predictions_eval)\n",
    "print(f'Accuracy on evaluation data: {accuracy_eval:.4f}')\n",
    "\n",
    "# Calculate and print log loss\n",
    "logloss_eval = log_loss(y_eval, rf_prob_predictions_eval)\n",
    "print(f'Log Loss on evaluation data: {logloss_eval:.4f}')\n"
   ]
  },
  {
   "cell_type": "code",
   "execution_count": 38,
   "id": "fb25828f",
   "metadata": {
    "execution": {
     "iopub.execute_input": "2023-12-07T04:26:55.201555Z",
     "iopub.status.busy": "2023-12-07T04:26:55.201176Z",
     "iopub.status.idle": "2023-12-07T04:26:55.729210Z",
     "shell.execute_reply": "2023-12-07T04:26:55.727706Z"
    },
    "papermill": {
     "duration": 0.547911,
     "end_time": "2023-12-07T04:26:55.732602",
     "exception": false,
     "start_time": "2023-12-07T04:26:55.184691",
     "status": "completed"
    },
    "tags": []
   },
   "outputs": [
    {
     "data": {
      "image/png": "[encoded data removed]",
      "text/plain": [
       "<Figure size 640x480 with 1 Axes>"
      ]
     },
     "metadata": {},
     "output_type": "display_data"
    }
   ],
   "source": [
    "import matplotlib.pyplot as plt\n",
    "import seaborn as sns\n",
    "\n",
    "Acc_scores = [accuracy_LR, accuracy_RF]\n",
    "labels = ['LR', 'RF']\n",
    "\n",
    "rg= np.arange(2)\n",
    "width = 0.25\n",
    "plt.bar(rg+width, Acc_scores, width)\n",
    "plt.xticks(rg + width/2, labels)\n",
    "plt.xlabel(\"Models\")\n",
    "plt.ylabel(\"Accuracy\")\n",
    "plt.ylim([0,1])\n",
    "\n",
    "plt.title('Model Performance')\n",
    "plt.legend(loc='upper left', ncol=2)\n",
    "plt.show()\n",
    "labels = ['LR', 'RF']"
   ]
  },
  {
   "cell_type": "markdown",
   "id": "f4af2b08",
   "metadata": {
    "papermill": {
     "duration": 0.014541,
     "end_time": "2023-12-07T04:26:55.763824",
     "exception": false,
     "start_time": "2023-12-07T04:26:55.749283",
     "status": "completed"
    },
    "tags": []
   },
   "source": [
    "<h1>KNN Model to predict Target Allocation</h1>"
   ]
  },
  {
   "cell_type": "code",
   "execution_count": 39,
   "id": "82ba2319",
   "metadata": {
    "execution": {
     "iopub.execute_input": "2023-12-07T04:26:55.793484Z",
     "iopub.status.busy": "2023-12-07T04:26:55.792841Z",
     "iopub.status.idle": "2023-12-07T04:26:55.808222Z",
     "shell.execute_reply": "2023-12-07T04:26:55.806398Z"
    },
    "papermill": {
     "duration": 0.032625,
     "end_time": "2023-12-07T04:26:55.810214",
     "exception": false,
     "start_time": "2023-12-07T04:26:55.777589",
     "status": "completed"
    },
    "tags": []
   },
   "outputs": [
    {
     "data": {
      "text/html": [
       "<div>\n",
       "<style scoped>\n",
       "    .dataframe tbody tr th:only-of-type {\n",
       "        vertical-align: middle;\n",
       "    }\n",
       "\n",
       "    .dataframe tbody tr th {\n",
       "        vertical-align: top;\n",
       "    }\n",
       "\n",
       "    .dataframe thead th {\n",
       "        text-align: right;\n",
       "    }\n",
       "</style>\n",
       "<table border=\"1\" class=\"dataframe\">\n",
       "  <thead>\n",
       "    <tr style=\"text-align: right;\">\n",
       "      <th></th>\n",
       "      <th>A_transactionType</th>\n",
       "      <th>A_id</th>\n",
       "      <th>A_allocation</th>\n",
       "      <th>A_debitOrCredit</th>\n",
       "      <th>A_amount</th>\n",
       "      <th>A_valueDate</th>\n",
       "      <th>A_currencyCode</th>\n",
       "      <th>A_transactionReferences</th>\n",
       "      <th>A_transactionAttributes</th>\n",
       "    </tr>\n",
       "  </thead>\n",
       "  <tbody>\n",
       "    <tr>\n",
       "      <th>2</th>\n",
       "      <td>A</td>\n",
       "      <td>8.061604e+11</td>\n",
       "      <td>USD_2015-03-08_ACC#00001_66412     66510665106...</td>\n",
       "      <td>CR</td>\n",
       "      <td>6.507682e+09</td>\n",
       "      <td>2015-03-08</td>\n",
       "      <td>USD</td>\n",
       "      <td>510065829 HD FZ                               ...</td>\n",
       "      <td>66412     66510665106660296113CACK H      ARAT...</td>\n",
       "    </tr>\n",
       "    <tr>\n",
       "      <th>4</th>\n",
       "      <td>A</td>\n",
       "      <td>9.271706e+11</td>\n",
       "      <td>USD_2015-03-20_ACC#00001_66412     66073660736...</td>\n",
       "      <td>DR</td>\n",
       "      <td>-4.720000e+03</td>\n",
       "      <td>2015-03-20</td>\n",
       "      <td>USD</td>\n",
       "      <td>YM                                            ...</td>\n",
       "      <td>66412     6607366073666029412TOM415           ...</td>\n",
       "    </tr>\n",
       "    <tr>\n",
       "      <th>6</th>\n",
       "      <td>A</td>\n",
       "      <td>1.032577e+11</td>\n",
       "      <td>USD_2015-03-20_ACC#00001_66412     66073660736...</td>\n",
       "      <td>DR</td>\n",
       "      <td>-4.000000e+01</td>\n",
       "      <td>2015-03-20</td>\n",
       "      <td>USD</td>\n",
       "      <td>YM                                            ...</td>\n",
       "      <td>66412     6607366073666029412TOM415           ...</td>\n",
       "    </tr>\n",
       "    <tr>\n",
       "      <th>7</th>\n",
       "      <td>A</td>\n",
       "      <td>3.126039e+11</td>\n",
       "      <td>USD_2015-03-27_ACC#00001_66412     66073660736...</td>\n",
       "      <td>CR</td>\n",
       "      <td>4.000000e+01</td>\n",
       "      <td>2015-03-27</td>\n",
       "      <td>USD</td>\n",
       "      <td>YM                                            ...</td>\n",
       "      <td>66412     6607366073666029BLUMING SKIRP 412TO4...</td>\n",
       "    </tr>\n",
       "    <tr>\n",
       "      <th>8</th>\n",
       "      <td>A</td>\n",
       "      <td>1.417370e+11</td>\n",
       "      <td>USD_2021-10-20_ACC#00001_66912     02507025077...</td>\n",
       "      <td>DR</td>\n",
       "      <td>-9.231300e+04</td>\n",
       "      <td>2021-10-20</td>\n",
       "      <td>USD</td>\n",
       "      <td>RM797074  67666 UPCLOSER SAUNT TYPY H.C.</td>\n",
       "      <td>66912     0250702507797074 67666              ...</td>\n",
       "    </tr>\n",
       "  </tbody>\n",
       "</table>\n",
       "</div>"
      ],
      "text/plain": [
       "  A_transactionType          A_id  \\\n",
       "2                 A  8.061604e+11   \n",
       "4                 A  9.271706e+11   \n",
       "6                 A  1.032577e+11   \n",
       "7                 A  3.126039e+11   \n",
       "8                 A  1.417370e+11   \n",
       "\n",
       "                                        A_allocation A_debitOrCredit  \\\n",
       "2  USD_2015-03-08_ACC#00001_66412     66510665106...              CR   \n",
       "4  USD_2015-03-20_ACC#00001_66412     66073660736...              DR   \n",
       "6  USD_2015-03-20_ACC#00001_66412     66073660736...              DR   \n",
       "7  USD_2015-03-27_ACC#00001_66412     66073660736...              CR   \n",
       "8  USD_2021-10-20_ACC#00001_66912     02507025077...              DR   \n",
       "\n",
       "       A_amount A_valueDate A_currencyCode  \\\n",
       "2  6.507682e+09  2015-03-08            USD   \n",
       "4 -4.720000e+03  2015-03-20            USD   \n",
       "6 -4.000000e+01  2015-03-20            USD   \n",
       "7  4.000000e+01  2015-03-27            USD   \n",
       "8 -9.231300e+04  2021-10-20            USD   \n",
       "\n",
       "                             A_transactionReferences  \\\n",
       "2  510065829 HD FZ                               ...   \n",
       "4  YM                                            ...   \n",
       "6  YM                                            ...   \n",
       "7  YM                                            ...   \n",
       "8           RM797074  67666 UPCLOSER SAUNT TYPY H.C.   \n",
       "\n",
       "                             A_transactionAttributes  \n",
       "2  66412     66510665106660296113CACK H      ARAT...  \n",
       "4  66412     6607366073666029412TOM415           ...  \n",
       "6  66412     6607366073666029412TOM415           ...  \n",
       "7  66412     6607366073666029BLUMING SKIRP 412TO4...  \n",
       "8  66912     0250702507797074 67666              ...  "
      ]
     },
     "execution_count": 39,
     "metadata": {},
     "output_type": "execute_result"
    }
   ],
   "source": [
    "df_A.head()"
   ]
  },
  {
   "cell_type": "code",
   "execution_count": 40,
   "id": "5a0c3959",
   "metadata": {
    "execution": {
     "iopub.execute_input": "2023-12-07T04:26:55.840113Z",
     "iopub.status.busy": "2023-12-07T04:26:55.839734Z",
     "iopub.status.idle": "2023-12-07T04:26:55.855346Z",
     "shell.execute_reply": "2023-12-07T04:26:55.853709Z"
    },
    "papermill": {
     "duration": 0.033567,
     "end_time": "2023-12-07T04:26:55.858294",
     "exception": false,
     "start_time": "2023-12-07T04:26:55.824727",
     "status": "completed"
    },
    "tags": []
   },
   "outputs": [],
   "source": [
    "df_A['match'] = (df['A_allocation'].notnull())"
   ]
  },
  {
   "cell_type": "code",
   "execution_count": 41,
   "id": "a3c3983c",
   "metadata": {
    "execution": {
     "iopub.execute_input": "2023-12-07T04:26:55.894268Z",
     "iopub.status.busy": "2023-12-07T04:26:55.893675Z",
     "iopub.status.idle": "2023-12-07T04:26:55.911598Z",
     "shell.execute_reply": "2023-12-07T04:26:55.910883Z"
    },
    "papermill": {
     "duration": 0.037715,
     "end_time": "2023-12-07T04:26:55.913471",
     "exception": false,
     "start_time": "2023-12-07T04:26:55.875756",
     "status": "completed"
    },
    "tags": []
   },
   "outputs": [
    {
     "name": "stdout",
     "output_type": "stream",
     "text": [
      "int64\n"
     ]
    }
   ],
   "source": [
    "df_A['A_valueDate'] = pd.to_datetime(df_A['A_valueDate']).astype(int)\n",
    "\n",
    "data_type_val = df_A['A_valueDate'].dtypes\n",
    "\n",
    "print(data_type_val)"
   ]
  },
  {
   "cell_type": "code",
   "execution_count": 42,
   "id": "32aabe8b",
   "metadata": {
    "execution": {
     "iopub.execute_input": "2023-12-07T04:26:55.943532Z",
     "iopub.status.busy": "2023-12-07T04:26:55.943137Z",
     "iopub.status.idle": "2023-12-07T04:26:55.957619Z",
     "shell.execute_reply": "2023-12-07T04:26:55.956314Z"
    },
    "papermill": {
     "duration": 0.031898,
     "end_time": "2023-12-07T04:26:55.959966",
     "exception": false,
     "start_time": "2023-12-07T04:26:55.928068",
     "status": "completed"
    },
    "tags": []
   },
   "outputs": [],
   "source": [
    "df_B['match'] = (df['targetAllocation'].notnull())\n"
   ]
  },
  {
   "cell_type": "code",
   "execution_count": 43,
   "id": "d8e6cabf",
   "metadata": {
    "execution": {
     "iopub.execute_input": "2023-12-07T04:26:55.993170Z",
     "iopub.status.busy": "2023-12-07T04:26:55.992778Z",
     "iopub.status.idle": "2023-12-07T04:26:56.005908Z",
     "shell.execute_reply": "2023-12-07T04:26:56.004905Z"
    },
    "papermill": {
     "duration": 0.031772,
     "end_time": "2023-12-07T04:26:56.007763",
     "exception": false,
     "start_time": "2023-12-07T04:26:55.975991",
     "status": "completed"
    },
    "tags": []
   },
   "outputs": [
    {
     "name": "stdout",
     "output_type": "stream",
     "text": [
      "int64\n"
     ]
    }
   ],
   "source": [
    "df_B['B_valueDate'] = pd.to_datetime(df_B['B_valueDate']).astype(int)\n",
    "\n",
    "data_type_val = df_B['B_valueDate'].dtypes\n",
    "\n",
    "print(data_type_val)\n"
   ]
  },
  {
   "cell_type": "code",
   "execution_count": 44,
   "id": "a2e26f9f",
   "metadata": {
    "execution": {
     "iopub.execute_input": "2023-12-07T04:26:56.038138Z",
     "iopub.status.busy": "2023-12-07T04:26:56.037755Z",
     "iopub.status.idle": "2023-12-07T04:26:56.054970Z",
     "shell.execute_reply": "2023-12-07T04:26:56.054001Z"
    },
    "papermill": {
     "duration": 0.034263,
     "end_time": "2023-12-07T04:26:56.056804",
     "exception": false,
     "start_time": "2023-12-07T04:26:56.022541",
     "status": "completed"
    },
    "tags": []
   },
   "outputs": [],
   "source": [
    "from sklearn.preprocessing import StandardScaler\n",
    "\n",
    "scaler_A = StandardScaler()\n",
    "scaler_B = StandardScaler()\n",
    "\n",
    "data_A_copy = df_A[['A_amount', 'A_id', 'A_valueDate']].copy()\n",
    "data_B_copy = df_B[['B_amount', 'B_id', 'B_valueDate']].copy()\n",
    "\n",
    "data_A_scaled = scaler_A.fit_transform(data_A_copy)\n",
    "data_B_scaled = scaler_B.fit_transform(data_B_copy)"
   ]
  },
  {
   "cell_type": "code",
   "execution_count": 45,
   "id": "e2865409",
   "metadata": {
    "execution": {
     "iopub.execute_input": "2023-12-07T04:26:56.087186Z",
     "iopub.status.busy": "2023-12-07T04:26:56.086803Z",
     "iopub.status.idle": "2023-12-07T04:26:56.362956Z",
     "shell.execute_reply": "2023-12-07T04:26:56.361741Z"
    },
    "papermill": {
     "duration": 0.29449,
     "end_time": "2023-12-07T04:26:56.365880",
     "exception": false,
     "start_time": "2023-12-07T04:26:56.071390",
     "status": "completed"
    },
    "tags": []
   },
   "outputs": [
    {
     "data": {
      "text/html": [
       "<style>#sk-container-id-2 {color: black;background-color: white;}#sk-container-id-2 pre{padding: 0;}#sk-container-id-2 div.sk-toggleable {background-color: white;}#sk-container-id-2 label.sk-toggleable__label {cursor: pointer;display: block;width: 100%;margin-bottom: 0;padding: 0.3em;box-sizing: border-box;text-align: center;}#sk-container-id-2 label.sk-toggleable__label-arrow:before {content: \"▸\";float: left;margin-right: 0.25em;color: #696969;}#sk-container-id-2 label.sk-toggleable__label-arrow:hover:before {color: black;}#sk-container-id-2 div.sk-estimator:hover label.sk-toggleable__label-arrow:before {color: black;}#sk-container-id-2 div.sk-toggleable__content {max-height: 0;max-width: 0;overflow: hidden;text-align: left;background-color: #f0f8ff;}#sk-container-id-2 div.sk-toggleable__content pre {margin: 0.2em;color: black;border-radius: 0.25em;background-color: #f0f8ff;}#sk-container-id-2 input.sk-toggleable__control:checked~div.sk-toggleable__content {max-height: 200px;max-width: 100%;overflow: auto;}#sk-container-id-2 input.sk-toggleable__control:checked~label.sk-toggleable__label-arrow:before {content: \"▾\";}#sk-container-id-2 div.sk-estimator input.sk-toggleable__control:checked~label.sk-toggleable__label {background-color: #d4ebff;}#sk-container-id-2 div.sk-label input.sk-toggleable__control:checked~label.sk-toggleable__label {background-color: #d4ebff;}#sk-container-id-2 input.sk-hidden--visually {border: 0;clip: rect(1px 1px 1px 1px);clip: rect(1px, 1px, 1px, 1px);height: 1px;margin: -1px;overflow: hidden;padding: 0;position: absolute;width: 1px;}#sk-container-id-2 div.sk-estimator {font-family: monospace;background-color: #f0f8ff;border: 1px dotted black;border-radius: 0.25em;box-sizing: border-box;margin-bottom: 0.5em;}#sk-container-id-2 div.sk-estimator:hover {background-color: #d4ebff;}#sk-container-id-2 div.sk-parallel-item::after {content: \"\";width: 100%;border-bottom: 1px solid gray;flex-grow: 1;}#sk-container-id-2 div.sk-label:hover label.sk-toggleable__label {background-color: #d4ebff;}#sk-container-id-2 div.sk-serial::before {content: \"\";position: absolute;border-left: 1px solid gray;box-sizing: border-box;top: 0;bottom: 0;left: 50%;z-index: 0;}#sk-container-id-2 div.sk-serial {display: flex;flex-direction: column;align-items: center;background-color: white;padding-right: 0.2em;padding-left: 0.2em;position: relative;}#sk-container-id-2 div.sk-item {position: relative;z-index: 1;}#sk-container-id-2 div.sk-parallel {display: flex;align-items: stretch;justify-content: center;background-color: white;position: relative;}#sk-container-id-2 div.sk-item::before, #sk-container-id-2 div.sk-parallel-item::before {content: \"\";position: absolute;border-left: 1px solid gray;box-sizing: border-box;top: 0;bottom: 0;left: 50%;z-index: -1;}#sk-container-id-2 div.sk-parallel-item {display: flex;flex-direction: column;z-index: 1;position: relative;background-color: white;}#sk-container-id-2 div.sk-parallel-item:first-child::after {align-self: flex-end;width: 50%;}#sk-container-id-2 div.sk-parallel-item:last-child::after {align-self: flex-start;width: 50%;}#sk-container-id-2 div.sk-parallel-item:only-child::after {width: 0;}#sk-container-id-2 div.sk-dashed-wrapped {border: 1px dashed gray;margin: 0 0.4em 0.5em 0.4em;box-sizing: border-box;padding-bottom: 0.4em;background-color: white;}#sk-container-id-2 div.sk-label label {font-family: monospace;font-weight: bold;display: inline-block;line-height: 1.2em;}#sk-container-id-2 div.sk-label-container {text-align: center;}#sk-container-id-2 div.sk-container {/* jupyter's `normalize.less` sets `[hidden] { display: none; }` but bootstrap.min.css set `[hidden] { display: none !important; }` so we also need the `!important` here to be able to override the default hidden behavior on the sphinx rendered scikit-learn.org. See: https://github.com/scikit-learn/scikit-learn/issues/21755 */display: inline-block !important;position: relative;}#sk-container-id-2 div.sk-text-repr-fallback {display: none;}</style><div id=\"sk-container-id-2\" class=\"sk-top-container\"><div class=\"sk-text-repr-fallback\"><pre>KNeighborsClassifier(n_neighbors=1)</pre><b>In a Jupyter environment, please rerun this cell to show the HTML representation or trust the notebook. <br />On GitHub, the HTML representation is unable to render, please try loading this page with nbviewer.org.</b></div><div class=\"sk-container\" hidden><div class=\"sk-item\"><div class=\"sk-estimator sk-toggleable\"><input class=\"sk-toggleable__control sk-hidden--visually\" id=\"sk-estimator-id-2\" type=\"checkbox\" checked><label for=\"sk-estimator-id-2\" class=\"sk-toggleable__label sk-toggleable__label-arrow\">KNeighborsClassifier</label><div class=\"sk-toggleable__content\"><pre>KNeighborsClassifier(n_neighbors=1)</pre></div></div></div></div></div>"
      ],
      "text/plain": [
       "KNeighborsClassifier(n_neighbors=1)"
      ]
     },
     "execution_count": 45,
     "metadata": {},
     "output_type": "execute_result"
    }
   ],
   "source": [
    "from sklearn.neighbors import KNeighborsClassifier\n",
    "\n",
    "k = 1  \n",
    "\n",
    "\n",
    "knn_model_a = KNeighborsClassifier(n_neighbors=k)\n",
    "knn_model_a.fit(data_A_scaled, df_A['A_allocation'])\n",
    "\n",
    "\n",
    "knn_model_b = KNeighborsClassifier(n_neighbors=k)\n",
    "knn_model_b.fit(data_B_scaled, df_B['targetAllocation'])"
   ]
  },
  {
   "cell_type": "code",
   "execution_count": 46,
   "id": "2ff8c2be",
   "metadata": {
    "execution": {
     "iopub.execute_input": "2023-12-07T04:26:56.401733Z",
     "iopub.status.busy": "2023-12-07T04:26:56.401311Z",
     "iopub.status.idle": "2023-12-07T04:26:56.603704Z",
     "shell.execute_reply": "2023-12-07T04:26:56.602552Z"
    },
    "papermill": {
     "duration": 0.22325,
     "end_time": "2023-12-07T04:26:56.606211",
     "exception": false,
     "start_time": "2023-12-07T04:26:56.382961",
     "status": "completed"
    },
    "tags": []
   },
   "outputs": [],
   "source": [
    "# Preprocess the data for Transaction B using the same scaler as Transaction B\n",
    "data_B_copy = df_B[['B_amount', 'B_id', 'B_valueDate']].copy()\n",
    "data_B_scaled = scaler_B.transform(data_B_copy)\n",
    "\n",
    "# Use the KNN model for Transaction A to find neighbors in Transaction B\n",
    "neighbors_indices = knn_model_a.kneighbors(data_B_scaled, n_neighbors=1, return_distance=False)\n",
    "\n",
    "# Create a new Series for targetAllocation in Transaction B\n",
    "target_allocation_series = df_A['A_allocation'].values[neighbors_indices].flatten()"
   ]
  },
  {
   "cell_type": "code",
   "execution_count": 47,
   "id": "0011b8e0",
   "metadata": {
    "execution": {
     "iopub.execute_input": "2023-12-07T04:26:56.637142Z",
     "iopub.status.busy": "2023-12-07T04:26:56.636753Z",
     "iopub.status.idle": "2023-12-07T04:26:56.714119Z",
     "shell.execute_reply": "2023-12-07T04:26:56.712564Z"
    },
    "papermill": {
     "duration": 0.094888,
     "end_time": "2023-12-07T04:26:56.716357",
     "exception": false,
     "start_time": "2023-12-07T04:26:56.621469",
     "status": "completed"
    },
    "tags": []
   },
   "outputs": [
    {
     "name": "stdout",
     "output_type": "stream",
     "text": [
      "Accuracy: 0.001222414186524106\n"
     ]
    }
   ],
   "source": [
    "from sklearn.metrics import accuracy_score, classification_report\n",
    "\n",
    "# Create a new DataFrame with actual and predicted targetAllocation\n",
    "evaluation_df = pd.DataFrame({\n",
    "    'Actual': df_B['targetAllocation'],  # Actual targetAllocation in Transaction B\n",
    "    'Predicted': target_allocation_series  # Predicted targetAllocation from Transaction A\n",
    "})\n",
    "\n",
    "# Calculate accuracy\n",
    "accuracy = accuracy_score(evaluation_df['Actual'], evaluation_df['Predicted'])\n",
    "\n",
    "print(f\"Accuracy: {accuracy}\")"
   ]
  },
  {
   "cell_type": "code",
   "execution_count": 48,
   "id": "01b62ac3",
   "metadata": {
    "execution": {
     "iopub.execute_input": "2023-12-07T04:26:56.748036Z",
     "iopub.status.busy": "2023-12-07T04:26:56.747576Z",
     "iopub.status.idle": "2023-12-07T04:26:56.754248Z",
     "shell.execute_reply": "2023-12-07T04:26:56.753323Z"
    },
    "papermill": {
     "duration": 0.024115,
     "end_time": "2023-12-07T04:26:56.755785",
     "exception": false,
     "start_time": "2023-12-07T04:26:56.731670",
     "status": "completed"
    },
    "tags": []
   },
   "outputs": [
    {
     "data": {
      "text/plain": [
       "\"from sklearn.neighbors import KNeighborsClassifier\\nfrom sklearn.model_selection import train_test_split\\nfrom sklearn.metrics import accuracy_score\\nimport numpy as np\\n\\n\\ndf['A_valueDate'] = pd.to_datetime(df['A_valueDate'])\\ndf['B_valueDate'] = pd.to_datetime(df['B_valueDate'])\\n\\namount_difference_threshold = 0.05 # 5% difference\\ndate_difference_threshold = pd.Timedelta(days=10)  # 10-day difference\\n\\ndf = df[\\n    (np.abs(df['A_amount'] - df['B_amount']) / df['A_amount'] <= amount_difference_threshold) &\\n    (np.abs(df['A_valueDate'] - df['B_valueDate']).dt.days <= date_difference_threshold.days)\\n]\\n\\n# Extract features and target\\nX = df[['A_id', 'A_amount', 'A_valueDate','B_id', 'B_amount', 'B_valueDate', 'A_allocation']]\\ny = df['targetAllocation']\\n\\n# Split the data into training and testing sets\\nX_train, X_test, y_train, y_test = train_test_split(X, y, test_size=0.1, random_state=42)\\n\\n# Initialize the KNN model\\nknn_model = KNeighborsClassifier(n_neighbors=3)  \\n\\n# Train the model on the training data\\nknn_model.fit(X_train, y_train)\\n\\n# Make predictions on the test data\\nknn_predictions = knn_model.predict(X_test)\\n\\n# Calculate and print accuracy\\naccuracy = accuracy_score(y_test, knn_predictions)\\nprint(f'Accuracy: {accuracy:.4f}')\""
      ]
     },
     "execution_count": 48,
     "metadata": {},
     "output_type": "execute_result"
    }
   ],
   "source": [
    "\"\"\"from sklearn.neighbors import KNeighborsClassifier\n",
    "from sklearn.model_selection import train_test_split\n",
    "from sklearn.metrics import accuracy_score\n",
    "import numpy as np\n",
    "\n",
    "\n",
    "df['A_valueDate'] = pd.to_datetime(df['A_valueDate'])\n",
    "df['B_valueDate'] = pd.to_datetime(df['B_valueDate'])\n",
    "\n",
    "amount_difference_threshold = 0.05 # 5% difference\n",
    "date_difference_threshold = pd.Timedelta(days=10)  # 10-day difference\n",
    "\n",
    "df = df[\n",
    "    (np.abs(df['A_amount'] - df['B_amount']) / df['A_amount'] <= amount_difference_threshold) &\n",
    "    (np.abs(df['A_valueDate'] - df['B_valueDate']).dt.days <= date_difference_threshold.days)\n",
    "]\n",
    "\n",
    "# Extract features and target\n",
    "X = df[['A_id', 'A_amount', 'A_valueDate','B_id', 'B_amount', 'B_valueDate', 'A_allocation']]\n",
    "y = df['targetAllocation']\n",
    "\n",
    "# Split the data into training and testing sets\n",
    "X_train, X_test, y_train, y_test = train_test_split(X, y, test_size=0.1, random_state=42)\n",
    "\n",
    "# Initialize the KNN model\n",
    "knn_model = KNeighborsClassifier(n_neighbors=3)  \n",
    "\n",
    "# Train the model on the training data\n",
    "knn_model.fit(X_train, y_train)\n",
    "\n",
    "# Make predictions on the test data\n",
    "knn_predictions = knn_model.predict(X_test)\n",
    "\n",
    "# Calculate and print accuracy\n",
    "accuracy = accuracy_score(y_test, knn_predictions)\n",
    "print(f'Accuracy: {accuracy:.4f}')\"\"\"\n",
    "\n"
   ]
  }
 ],
 "metadata": {
  "kaggle": {
   "accelerator": "none",
   "dataSources": [
    {
     "databundleVersionId": 7016032,
     "sourceId": 63626,
     "sourceType": "competition"
    }
   ],
   "dockerImageVersionId": 30579,
   "isGpuEnabled": false,
   "isInternetEnabled": true,
   "language": "python",
   "sourceType": "notebook"
  },
  "kernelspec": {
   "display_name": "Python 3",
   "language": "python",
   "name": "python3"
  },
  "language_info": {
   "codemirror_mode": {
    "name": "ipython",
    "version": 3
   },
   "file_extension": ".py",
   "mimetype": "text/x-python",
   "name": "python",
   "nbconvert_exporter": "python",
   "pygments_lexer": "ipython3",
   "version": "3.10.12"
  },
  "papermill": {
   "default_parameters": {},
   "duration": 28.143973,
   "end_time": "2023-12-07T04:26:57.490626",
   "environment_variables": {},
   "exception": null,
   "input_path": "__notebook__.ipynb",
   "output_path": "__notebook__.ipynb",
   "parameters": {},
   "start_time": "2023-12-07T04:26:29.346653",
   "version": "2.4.0"
  }
 },
 "nbformat": 4,
 "nbformat_minor": 5
}
